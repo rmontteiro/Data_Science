{
  "nbformat": 4,
  "nbformat_minor": 0,
  "metadata": {
    "colab": {
      "name": "webscraping_com_beautifullsoup.ipynb",
      "provenance": [],
      "collapsed_sections": [],
      "authorship_tag": "ABX9TyPhoGu7RwoWPEky+Ow1mXvi",
      "include_colab_link": true
    },
    "kernelspec": {
      "name": "python3",
      "display_name": "Python 3"
    },
    "language_info": {
      "name": "python"
    }
  },
  "cells": [
    {
      "cell_type": "markdown",
      "metadata": {
        "id": "view-in-github",
        "colab_type": "text"
      },
      "source": [
        "<a href=\"https://colab.research.google.com/github/rmontteiro/Data_Science/blob/master/webscraping_com_beautifullsoup.ipynb\" target=\"_parent\"><img src=\"https://colab.research.google.com/assets/colab-badge.svg\" alt=\"Open In Colab\"/></a>"
      ]
    },
    {
      "cell_type": "code",
      "metadata": {
        "id": "VxReBSbWnENa"
      },
      "source": [
        "from bs4 import BeautifulSoup as bs\n",
        "import requests\n",
        "import re"
      ],
      "execution_count": 1,
      "outputs": []
    },
    {
      "cell_type": "markdown",
      "metadata": {
        "id": "dXyRZWMuIgav"
      },
      "source": [
        "Coletando dados de um portal de Noticias sobre as Eleições 2020 do Jornal Estadão"
      ]
    },
    {
      "cell_type": "code",
      "metadata": {
        "id": "aaD6M_0jnPe-"
      },
      "source": [
        "#identificando o link do portal\n",
        "r=requests.get(\"https://politica.estadao.com.br/eleicoes/2020/candidatos\")"
      ],
      "execution_count": 3,
      "outputs": []
    },
    {
      "cell_type": "code",
      "metadata": {
        "colab": {
          "base_uri": "https://localhost:8080/",
          "height": 137
        },
        "id": "WYe8YpkInPVs",
        "outputId": "76b604bf-7dbf-4e71-d654-5603f11416f4"
      },
      "source": [
        "#copiando todo texto\n",
        "r.text"
      ],
      "execution_count": 4,
      "outputs": [
        {
          "output_type": "execute_result",
          "data": {
            "application/vnd.google.colaboratory.intrinsic+json": {
              "type": "string"
            },
            "text/plain": [
              "'<!DOCTYPE html><html lang=\"pt-BR\"><head><script>(function(w,d,s,l,i){w[l]=w[l]||[];w[l].push({\\'gtm.start\\': new Date().getTime(),event:\\'gtm.js\\'});var f=d.getElementsByTagName(s)[0], j=d.createElement(s),dl=l!=\\'dataLayer\\'?\\'&l=\\'+l:\\'\\';j.async=true;j.src= \\'https://www.googletagmanager.com/gtm.js?id=\\'+i+dl;f.parentNode.insertBefore(j,f); })(window,document,\\'script\\',\\'dataLayerEstadao\\',\\'GTM-M4LH38R\\');</script><meta charset=\"UTF-8\"/><script async=\\'async\\' src=\\'https://www.googletagservices.com/tag/js/gpt.js\\'></script><script async=\\'async\\' src=\"https://statics.estadao.com.br/s2016/utils/publicidade/dfp.min.js\"></script> <script type=\\'text/javascript\\'> var DFP = DFP || {}; DFP.cmd = DFP.cmd || []; DFP.cmd.push(function(){DFP.Prebid.init({ \"bids\": [{ \"accepted_formats\": [{ \"devices\": [\"xl\", \"lg\", \"md\", \"sm\", \"xs\"], \"format\": [300, 250], \"params\": { \"networkId\": 5963 } }, { \"devices\": [\"xl\", \"lg\", \"md\"], \"format\": [970, 90], \"params\": { \"networkId\": 5963 } }, { \"devices\": [\"xl\", \"lg\", \"md\"], \"format\": [300, 600], \"params\": { \"networkId\": 5963 } }, { \"devices\": [\"xl\", \"lg\", \"md\"], \"format\": [160, 600], \"params\": { \"networkId\": 5963 } }, { \"devices\": [\"xl\", \"lg\", \"md\"], \"format\": [120, 600], \"params\": { \"networkId\": 5963 } }, { \"devices\": [\"md\", \"sm\"], \"format\": [728, 90], \"params\": { \"networkId\": 5963 } }, { \"targets\": { \"formato\": [\"htopo\"] }, \"devices\": [\"sm\"], \"format\": [468, 60], \"params\": { \"network\": \"5963\" } },{ \"targets\": { \"formato\": [\"htopo\"] }, \"devices\": [\"sm\"], \"format\": [300, 100], \"params\": { \"network\": \"5963\" } },{ \"targets\": { \"formato\": [\"htopo\"] }, \"devices\": [\"sm\"], \"format\": [300, 50], \"params\": { \"network\": \"5963\" } }, { \"targets\": { \"formato\": [\"htopo\"] }, \"devices\": [\"sm\", \"xs\"], \"format\": [320, 50], \"params\": { \"networkId\": 5963 } }], \"bidder\": \"criteo\", \"params\": [] }, { \"accepted_formats\": [{ \"targets\": { \"formato\": [\"sticky\"] }, \"params\": { \"formatId\": \"91190\", \"siteId\": \"352949\", \"pageId\": \"1236065\" } }, { \"targets\": { \"formato\": [\"ttopo\"] }, \"params\": { \"formatId\": \"91189\", \"siteId\": \"352949\", \"pageId\": \"1236065\" } }, { \"targets\": { \"formato\": [\"tmeio2\"] }, \"params\": { \"formatId\": \"91188\", \"siteId\": \"352949\", \"pageId\": \"1236065\" } }, { \"targets\": { \"formato\": [\"hmeio2\"] }, \"params\": { \"formatId\": \"91187\", \"siteId\": \"352949\", \"pageId\": \"1236065\" } }, { \"targets\": { \"formato\": [\"hmeio1\"] }, \"params\": { \"formatId\": \"91186\", \"siteId\": \"352949\", \"pageId\": \"1236065\" } }, { \"targets\": { \"formato\": [\"vmeio1\"] }, \"params\": { \"formatId\": \"91185\", \"siteId\": \"352949\", \"pageId\": \"1236065\" } }, { \"targets\": { \"formato\": [\"tmeio1\"] }, \"params\": { \"formatId\": \"91184\", \"siteId\": \"352949\", \"pageId\": \"1236065\" } }, { \"targets\": { \"formato\": [\"vlatd\"] }, \"params\": { \"formatId\": \"91183\", \"siteId\": \"352949\", \"pageId\": \"1236065\" } }, { \"targets\": { \"formato\": [\"vlate\"] }, \"params\": { \"formatId\": \"92463\", \"siteId\": \"352949\", \"pageId\": \"1236065\" } }, { \"targets\": { \"formato\": [\"htopo\"] }, \"params\": { \"formatId\": \"91182\", \"siteId\": \"352949\", \"pageId\": \"1236065\" } }], \"bidder\": \"smartadserver\", \"mediaTypes\": \"bannerOnly\", \"params\": [] }, { \"bidder\": \"rubicon\", \"params\": { \"accountId\": \"14044\", \"siteId\": \"70010\", \"zoneId\": \"334044\" } }, { \"accepted_formats\": [{ \"devices\": [\"xl\", \"lg\", \"md\", \"sm\"], \"params\": { \"placementId\": \"14149591\" } }, { \"devices\": [\"xs\"], \"params\": { \"placementId\": \"14149592\" } }], \"bidder\": \"appnexus\", \"params\": [] }, { \"accepted_formats\": [{ \"targets\": { \"formato\": [\"tmeio1\"] }, \"devices\": [\"xl\", \"lg\", \"md\"], \"format\": [300, 250], \"params\": { \"dcn\": \"8a96941801787864ba7464d54b060007\", \"pos\": \"estadao_sub_home_desk_tmeio1_custom_300x250\" } }, { \"targets\": { \"formato\": [\"tmeio2\"] }, \"devices\": [\"xl\", \"lg\", \"md\"], \"format\": [300, 250], \"params\": { \"dcn\": \"8a96941801787864ba7464d54b060007\", \"pos\": \"estadao_sub_home_desk_tmeio2_custom_300x250\" } }, { \"targets\": { \"formato\": [\"hmeio1\"] }, \"devices\": [\"xl\", \"lg\", \"md\"], \"format\": [728, 90], \"params\": { \"dcn\": \"8a96941801787864ba7464d54b060007\", \"pos\": \"estadao_sub_home_desk_hmeio1_custom_728x90\" } }, { \"targets\": { \"formato\": [\"hmeio2\"] }, \"devices\": [\"xl\", \"lg\", \"md\"], \"format\": [728, 90], \"params\": { \"dcn\": \"8a96941801787864ba7464d54b060007\", \"pos\": \"estadao_sub_home_desk_hmeio2_custom_728x90\" } }, { \"targets\": { \"formato\": [\"htopo\"] }, \"devices\": [\"xl\", \"lg\", \"md\"], \"format\": [970, 250], \"params\": { \"dcn\": \"8a96941801787864ba7464d54b060007\", \"pos\": \"estadao_sub_home_desk_htopo_dym_970x250\" } }, { \"targets\": { \"formato\": [\"sticky\"] }, \"devices\": [\"sm\", \"xs\"], \"format\": [320, 100], \"params\": { \"dcn\": \"8a96941801787864ba7464d8110d0009\", \"pos\": \"estadao_sub_home_mobile_dfp_dym_320x100\" } }, { \"targets\": { \"formato\": [\"htopo\"] }, \"devices\": [\"sm\", \"xs\"], \"format\": [320, 100], \"params\": { \"dcn\": \"8a96941801787864ba7464d8110d0009\", \"pos\": \"estadao_sub_home_mobile_htopo_dym_320x100\" } }, { \"targets\": { \"formato\": [\"hmeio1\"] }, \"devices\": [\"sm\", \"xs\"], \"format\": [300, 250], \"params\": { \"dcn\": \"8a96941801787864ba7464d8110d0009\", \"pos\": \"estadao_sub_home_mobile_hmeio1_dym_300x250\" } }, { \"targets\": { \"formato\": [\"hmeio2\"] }, \"devices\": [\"sm\", \"xs\"], \"format\": [300, 250], \"params\": { \"dcn\": \"8a96941801787864ba7464d8110d0009\", \"pos\": \"estadao_sub_home_mobile_hmeio2_dym_300x250\" } }, { \"targets\": { \"formato\": [\"tmeio1\"] }, \"devices\": [\"sm\", \"xs\"], \"format\": [300, 250], \"params\": { \"dcn\": \"8a96941801787864ba7464d8110d0009\", \"pos\": \"estadao_sub_home_mobile_tmeio1_custom_300x250\" } }, { \"targets\": { \"formato\": [\"tmeio2\"] }, \"devices\": [\"sm\", \"xs\"], \"format\": [300, 250], \"params\": { \"dcn\": \"8a96941801787864ba7464d8110d0009\", \"pos\": \"estadao_sub_home_mobile_tmeio2_custom_300x250\" } }], \"bidder\": \"onemobile\", \"params\": [] }], \"currency\": []})}); DFP.cmd.push(function(){ DFP.init(\\'/118650305/estadao/politica/eleicoes\\',\\'eleicoes\\'); DFP.pushTargetsDefault([]); }); </script> <title>Elei&ccedil;&otilde;es 2020 | Candidatos | Estad&atilde;o</title><meta http-equiv=\"X-UA-Compatible\" content=\"IE=edge\"><meta name=\"viewport\" content=\"width=device-width, initial-scale=1, user-scalable=0\"><meta name=\"mobile-web-app-capable\" content=\"yes\"><meta name=\"apple-mobile-web-app-status-bar-style\" content=\"black\"><meta name=\"description\" content=\"Conhe&ccedil;a dados e informa&ccedil;&otilde;es sobre os candidatos nas elei&ccedil;&otilde;es municipais em S&atilde;o Paulo, Rio de Janeiro, Belo Horizonte e todas as demais cidades do Pa&iacute;s\"><link rel=\"canonical\" href=\"https://politica.estadao.com.br/eleicoes/2020/candidatos\"><meta name=\"google-site-verification\" content=\"PfiLKXdZ8G42sTRx1JwiEfHMkIoKwxG8pFKwjhhxZ8c\" /><meta name=\"msvalidate.01\" content=\"472E06798AE8794A1997378AF5BDA687\" /><meta property=\"fb:app_id\" content=\"127970263920039\" /><meta property=\"og:title\" content=\"Elei&ccedil;&otilde;es 2020 | Candidatos | Estad&atilde;o\" ><meta property=\"og:type\" content=\"article\" ><meta property=\"og:url\" content=\"https://politica.estadao.com.br/eleicoes/2020/candidatos\" /><meta property=\"og:image\" content=\"https://statics.estadao.com.br/s2016/portal/logos/estadao-logo-200x200.png\" ><meta property=\"og:site_name\" content=\"Estad&atilde;o\" ><meta property=\"og:description\" content=\"Conhe&ccedil;a dados e informa&ccedil;&otilde;es sobre os candidatos nas elei&ccedil;&otilde;es municipais em S&atilde;o Paulo, Rio de Janeiro, Belo Horizonte e todas as demais cidades do Pa&iacute;s\" ><link rel=\"shortcut icon\" href=\"https://statics.estadao.com.br/s2016/portal/logos/favicon/favicon.ico\"><link rel=\"apple-touch-icon\" href=\"https://statics.estadao.com.br/s2016/portal/logos/favicon/apple-touch-icon.png\"><link rel=\"dns-prefetch\" href=\"//ajax.googleapis.com\"><link rel=\"dns-prefetch\" href=\"//img.estadao.com.br\"><link rel=\"dns-prefetch\" href=\"//front.multimidia.estadao.com.br\"><link rel=\"dns-prefetch\" href=\"//www.googletagmanager.com\"><link rel=\"dns-prefetch\" href=\"//www.google-analytics.com\"><link rel=\"dns-prefetch\" href=\"//tag.navdmp.com\"><link rel=\"dns-prefetch\" href=\"//s3.amazonaws.com\"><link rel=\"dns-prefetch\" href=\"//navdmp.com\"><link rel=\"dns-prefetch\" href=\"//b.scorecardresearch.com\"><link rel=\"dns-prefetch\" href=\"//ivccftag.ivcbrasil.org.br\"><link rel=\"dns-prefetch\" href=\"//estadao.or1.sc.omtrdc.net\"><link rel=\"dns-prefetch\" href=\"//gadasource.storage.googleapis.com\"><link rel=\"dns-prefetch\" href=\"//ping.chartbeat.net\"><link rel=\"dns-prefetch\" href=\"//statics.estadao.com.br\"><link rel=\"dns-prefetch\" href=\"//static.chartbeat.com\"><link crossOrigin=\"https://statics.estadao.com.br/s2016/\" rel=\"preload\" as=\"font\" href=\"https://statics.estadao.com.br/s2016/portal/font/icons/icones-estadao.woff2\"><link crossOrigin=\"https://statics.estadao.com.br/s2016/\" rel=\"preload\" as=\"font\" href=\"https://statics.estadao.com.br/s2016/portal/font/estado/bold/estadoheadline-bold.woff2\"><link crossOrigin=\"https://statics.estadao.com.br/s2016/\" rel=\"preload\" as=\"font\" href=\"https://statics.estadao.com.br/s2016/portal/font/lato/bold/lato-bold.woff2\"><link crossOrigin=\"https://statics.estadao.com.br/s2016/\" rel=\"preload\" as=\"font\" href=\"https://statics.estadao.com.br/s2016/portal/font/lato/bold-italic/lato-bolditalic.woff2\"><link crossOrigin=\"https://statics.estadao.com.br/s2016/\" rel=\"preload\" as=\"font\" href=\"https://statics.estadao.com.br/s2016/portal/font/lato/black/lato-black.woff2\"><link crossOrigin=\"https://statics.estadao.com.br/s2016/\" rel=\"preload\" as=\"font\" href=\"https://statics.estadao.com.br/s2016/portal/font/lato/regular/lato-regular.woff2\"><link crossOrigin=\"https://statics.estadao.com.br/s2016/\" rel=\"preload\" as=\"font\" href=\"https://statics.estadao.com.br/s2016/portal/font/lato/light/lato-light.woff2\"><link crossOrigin=\"https://statics.estadao.com.br/s2016/\" rel=\"preload\" as=\"font\" href=\"https://statics.estadao.com.br/s2016/portal/font/lato/italic/lato-italic.woff2\"><link crossOrigin=\"https://statics.estadao.com.br/s2016/\" rel=\"preload\" as=\"font\" href=\"https://statics.estadao.com.br/s2016/portal/font/flama/regular/flama.woff2\"><link rel=\"preload\" type=\"text/css\" href=\"https://statics.estadao.com.br/s2016/portal/css/flexboxgrid/6.3.0/flexboxgrid.min.css\" as=\"style\"><link rel=\"stylesheet\" type=\"text/css\" href=\"https://statics.estadao.com.br/s2016/portal/css/flexboxgrid/6.3.0/flexboxgrid.min.css\"><link rel=\"preload\" type=\"text/css\" href=\"https://statics.estadao.com.br/s2016/portal/eleicoes2020/css/eleicoes2020.min.css?v=27-11-2020\" as=\"style\"><link rel=\"stylesheet\" type=\"text/css\" href=\"https://statics.estadao.com.br/s2016/portal/eleicoes2020/css/eleicoes2020.min.css?v=27-11-2020\"><!--[if lt IE 10]><link rel=\"stylesheet\" type=\"text/css\" href=\"https://statics.estadao.com.br/s2016/portal/css/ie.css\" media=\"all\" /><![endif]--><script type=\"text/javascript\" src=\"https://statics.estadao.com.br/s2016/portal/js/frameworks.min.js\"></script><script>var mod_default = mod_default || [];mod_default = [\"busca-candidatos-filtros\",\"lista-candidatos\",\"lista-candidatos\",\"lista-candidatos\",\"mais-lidas\"];</script> <script id=\"navegg\" type=\"text/javascript\"> (function(n,v,g){o=\\'Navegg\\';if(!n[o]){ a=v.createElement(\\'script\\');a.src=g;b=document.getElementsByTagName(\\'script\\')[0]; b.parentNode.insertBefore(a,b);n[o]=n[o]||function(parms){ n[o].q=n[o].q||[];n[o].q.push([this, parms])};}}) (window, document, \\'https://tag.navdmp.com/universal.min.js\\'); window.naveggReady = window.naveggReady||[]; window.nvg23902 = new Navegg({ acc: 23902 });</script><script type=\"text/javascript\" src=\"https://statics.estadao.com.br/s2016/portal/js/advertisement.js\" async></script> <script> !function(f,b,e,v,n,t,s){if(f.fbq)return;n=f.fbq=function(){n.callMethod? n.callMethod.apply(n,arguments):n.queue.push(arguments)};if(!f._fbq)f._fbq=n; n.push=n;n.loaded=!0;n.version=\\'2.0\\';n.queue=[];t=b.createElement(e);t.async=!0; t.src=v;s=b.getElementsByTagName(e)[0];s.parentNode.insertBefore(t,s)}(window, document,\\'script\\',\\'//connect.facebook.net/en_US/fbevents.js\\'); fbq(\\'init\\', \\'1659995760901982\\'); fbq(\\'track\\', \\'PageView\\'); </script> <noscript><img height=\"1\" width=\"1\" style=\"display:none\" src=\"https://www.facebook.com/tr?id=1659995760901982&ev=PageView&noscript=1\"/></noscript> <style>.async-hide { opacity: 0 !important} </style> <script> (function(a,s,y,n,c,h,i,d,e){s.className+=\\' \\'+y;h.start=1*new Date; h.end=i=function(){s.className=s.className.replace(RegExp(\\' ?\\'+y),\\'\\')}; (a[n]=a[n]||[]).hide=h;setTimeout(function(){i();h.end=null},c);h.timeout=c; })(window,document.documentElement,\\'async-hide\\',\\'dataLayer\\',4000, {\\'GTM-PMJLHJ3\\':true});</script> <script async src=\"https://www.googleoptimize.com/optimize.js?id=GTM-PMJLHJ3\" onerror=\"dataLayer.hide.end && dataLayer.hide.end()\"></script> </head><body class=\"politica \" data-area=\"\"> <noscript> <iframe src=\"https://www.googletagmanager.com/ns.html?id=GTM-M4LH38R\" height=\"0\" width=\"0\" style=\"display:none;visibility:hidden\"></iframe> </noscript> <section class=\"mold-assine\"><div class=\"hidden assine-bar\" style=\"display: none\"><a href=\"https://api.whatsapp.com/send?phone=5511992482333&amp;text=Ola\" class=\"urlassine\" style=\"background-image:url(\\'https://img.estadao.com.br/fotos3/20x169/bt-laranja-barra-lateral-20-x-169.png\\')\" >Assine o Estadão</a><div class=\"content\"><a href=\"https://api.whatsapp.com/send?phone=5511992482333&amp;text=Ola\" target=\"_blank\" rel=\"noopener noreferrer\"><img src=\"https://img.estadao.com.br/fotos3/162x269/A-167x282px.jpg\" alt=\"Imagem Assine o Estadão\"></a></div></div></section> <style> #barra-estadao-parceiros{box-sizing:border-box;-webkit-box-sizing:border-box;-moz-box-sizing:border-box;-ms-box-sizing:border-box;-o-box-sizing:border-box;margin:0;padding:0;height:auto;max-height:100%;background-color:#393b41;white-space:nowrap;overflow:hidden!important;overflow-x:auto!important} #barra-estadao-parceiros .barra-estadao-list{margin:0 auto;text-align:center} #barra-estadao-parceiros ul{padding:9px 20px;position:relative;display:inline-block;margin:0;font-size:0;text-align:center} #barra-estadao-parceiros li:first-child{margin-left:0} #barra-estadao-parceiros li{margin:0 0 0 9px;display:inline-block;list-style:none;color:#fff} #barra-estadao-parceiros li:not(.barra-item-visibility):before{content:\\'●\\';display:inline-block;margin-right:9px;color:#fff;font-size:12px} #barra-estadao-parceiros li.barra-item-visibility + li:before{display:none} #barra-estadao-parceiros li:not(.barra-item-visibility) a:hover{color:#D0D0D0} #barra-estadao-parceiros li.barra-estadao-item{margin-right:5px} #barra-estadao-parceiros li.barra-estadao-item a{background:rgba(255,255,255,0.4);padding:5px 10px;border-radius:2px;font-weight:bold} #barra-estadao-parceiros li a{padding:0;margin:0;line-height:normal;color:#fff;font-family:sans-serif;font-size:12px;text-decoration:none;-webkit-transition:all .3s ease;-moz-transition:all .3s ease;-ms-transition:all .3s ease;-o-transition:all .3s ease;transition:all .3s ease}@media screen and (max-width:767px) { #barra-estadao-parceiros { display:none; } }</style><div id=\"barra-estadao-parceiros\" class=\"barra-estadao-parceiros\"> <nav class=\"barra-estadao-list\"> <ul> <li class=\"barra-estadao-item barra-item-visibility\"><a href=\"https://assine.estadao.com.br/subscribe/paywall?utm_source=portal_estadao_selo_header&utm_medium=portal_estadao_selo_header&utm_campaign=portal_estadao_selo_header&utm_content=portal_estadao_selo_header\" target=\"_blank\" rel=\"noopener noreferrer\">Assine o Estadão</a></li> <li><a href=\"https://acervo.estadao.com.br\" title=\"Acervo\" target=\"_blank\" rel=\"noopener noreferrer\">Acervo</a></li> <li><a href=\"http://institucional.ae.com.br/\" title=\"Agência Estado\" target=\"_blank\" rel=\"noopener noreferrer\">Agência Estado</a></li> <li><a href=\"https://classificados.estadao.com.br/\" title=\"Classificados\" target=\"_blank\" rel=\"noopener noreferrer\">Classificados</a></li> <li><a href=\"https://emais.estadao.com.br\" title=\"E+\" target=\"_blank\" rel=\"noopener noreferrer\">E+</a></li> <li><a href=\"https://einvestidor.estadao.com.br\" title=\"E-Investidor\" target=\"_blank\" rel=\"noopener noreferrer\">E-Investidor</a></li> <li><a href=\"https://esportefera.com.br\" title=\"#FERA\" target=\"_blank\" rel=\"noopener noreferrer\">#FERA</a></li> <li><a href=\"https://imoveis.estadao.com.br/\" title=\"Imóveis\" target=\"_blank\" rel=\"noopener noreferrer\">Imóveis</a></li> <li><a href=\"https://link.estadao.com.br\" title=\"Link\" target=\"_blank\" rel=\"noopener noreferrer\">Link</a></li> <li><a href=\"https://mobilidade.estadao.com.br/\" title=\"Mobilidade\" target=\"_blank\" rel=\"noopener noreferrer\">Mobilidade</a></li> <li><a href=\"https://paladar.estadao.com.br\" title=\"Paladar\" target=\"_blank\" rel=\"noopener noreferrer\">Paladar</a></li> <li><a href=\"https://pme.estadao.com.br\" title=\"PME\" target=\"_blank\" rel=\"noopener noreferrer\">PME</a></li> <li><a href=\"https://eldorado.estadao.com.br\" title=\"Rádio Eldorado\" target=\"_blank\" rel=\"noopener noreferrer\">Rádio Eldorado</a></li> <li><a href=\"https://saudeciencia.estadao.com.br/\" title=\"Saúde & Ciência\" target=\"_blank\" rel=\"noopener noreferrer\">Saúde & Ciência</a></li> </ul> <script type=\"text/javascript\"> (function(){ var getCookie = function(cname) { var name = cname + \"=\"; var decodedCookie = decodeURIComponent(document.cookie); var ca = decodedCookie.split(\\';\\'); for(var i = 0; i <ca.length; i++) { var c = ca[i]; while (c.charAt(0) == \\' \\') { c = c.substring(1); } if (c.indexOf(name) == 0) { return c.substring(name.length, c.length); } } return null; }; try{ var cookieData = getCookie(\\'OESP_INFO\\'); if(cookieData) { cookieData = JSON.parse(cookieData); if (cookieData.produtos !== \\'undefined\\' && cookieData.produtos != \"\" && cookieData.produtos.indexOf(\\'Not_\\') > -1 ) { var li_assine = document.querySelectorAll(\\'#barra-estadao-parceiros .barra-estadao-item\\'); for(var i in li_assine){ li_assine[i].style.display = \"none\"; } } } }catch (e) {} })(); </script> </nav></div><header class=\"js-header header-estadao header-subhome \" > <div class=\"header-wrapper\"> <div class=\"header-hamburger-menu js-toggle-menu\"> <div class=\"header-menu-bar\"></div> </div> <div class=\"header-icon-menu\"> <a href=\"#\" class=\"header-icon search-button js-toggle-menu\" title=\"Buscar\"> <i class=\"ico-search\"></i> </a> <a href=\"https://acesso.estadao.com.br/login/minha-conta\" class=\"header-icon minha-conta-picture\" title=\"Meu Perfil\"> <i class=\"ico-profile\"></i> </a> </div> <div class=\"header-publicidade selo-menu-top\"> <script type=\"text/javascript\"> if (window.DFP) { DFP.cmd.push(function(){ DFP.renderHtml({ \\'selector\\': \\'.header-publicidade.selo-menu-top\\', \\'targets\\': {\"formato\": \"selo\"}, \"screenmap\" : \"out_of_page\", \"oop_devices\": [\"xs\",\"sm\",\"md\",\"lg\",\"xl\"], \"emptyCallback\" : function(){ if(DFP.isAssinante() !== \"true\"){ document.getElementById(\"selo-assine-dfp\").style.display = \"block\"; } } }); }); } </script> <div id=\"selo-assine-dfp\" style=\"display:none\"> <div class=\"selo-assine -topo img\"> <a class=\"selo-assine-topo-a\" href=\"https://assine.estadao.com.br/subscribe/paywall?utm_source=portal_estadao_selosuperior&utm_medium=portal_estadao_selosuperior&utm_campaign=portal_estadao_selosuperior&utm_content=portal_estadao_selosuperior\" target=\"_blank\" rel=\"noopener noreferrer\" title=\"Assine Estad&atilde;o\"> <img class=\"elazy\" data-src-desktop=\"https://img.estadao.com.br/fotos3/60x34/bt-laranja-selo-menu-60-x-34.png\" data-src-mobile=\"https://img.estadao.com.br/fotos3/60x34/bt-laranja-selo-menu-60-x-34.png\" alt=\"Assine Estad&atilde;o\"> </a> </div> </div> </div> <a href=\"javascript:history.go(-1)\" class=\"header-back-button\"> <div class=\"header-back-bar\"></div> </a> <div class=\"header-primary-logo logo-small logo-blue js-logo-events\"> <a href=\"https://www.estadao.com.br/\" title=\"Estadão - Portal do Estado de S. Paulo\" > <span>Estadão - Portal do Estado de S. Paulo</span> </a> </div> <h1 class=\"novo_h1 header-current-page cor-e\"> <a href=\"https://politica.estadao.com.br/eleicoes/2020\"> Eleições 2020 </a> </h1> <p class=\"header-current-section cor-e\"> <a href=\"https://politica.estadao.com.br/\" class=\"header-section-title\"> Política </a> </p> </div> <nav class=\"header-menu header-secundary-menu \"> <ul> <li class=\" \"> <a href=\"https://politica.estadao.com.br/eleicoes/2020/#ultimas\" title=\"Últimas\" > Últimas </a> </li> <li class=\" \"> <a href=\"https://politica.estadao.com.br/eleicoes/2020/cobertura-votacao-apuracao/primeiro-turno\" title=\"Apuração 1º turno\" > Apuração 1º turno </a> </li> <li class=\" \"> <a href=\"https://politica.estadao.com.br/eleicoes/2020/cobertura-votacao-apuracao/segundo-turno\" title=\"Apuração 2º turno\" > Apuração 2º turno </a> </li> <li class=\"actived \"> <a href=\"https://politica.estadao.com.br/eleicoes/2020/candidatos\" title=\"Candidatos\" > Candidatos </a> </li> <li class=\" \"> <a href=\"https://politica.estadao.com.br/eleicoes/2020/conteudo-interativo\" title=\"Conteúdo Interativo\" > Conteúdo Interativo </a> </li> <li class=\" \"> <a href=\"https://politica.estadao.com.br/eleicoes/2020/guia-do-eleitor\" title=\"Guia do Eleitor\" > Guia do Eleitor </a> </li> <li class=\" \"> <a href=\"https://politica.estadao.com.br/eleicoes/2020/pesquisas/segundo-turno/prefeito/sp/sao-paulo/ibope\" title=\"Pesquisas\" > Pesquisas </a> </li> <li class=\" \"> <a href=\"https://politica.estadao.com.br/eleicoes/2016\" title=\"Eleições 2016\" > Eleições 2016 </a> </li> <li class=\" \"> <a href=\"https://politica.estadao.com.br/eleicoes/2018\" title=\"Eleições 2018\" > Eleições 2018 </a> </li> </ul> </nav> <section class=\"header-menu-user js-menu-user\"> <div class=\"header-wrapper\"><div class=\"search-box\"> <form method=\"GET\" class=\"busca-filtro\" action=\"//busca.estadao.com.br\"> <div class=\"input-search ico-search\"> <input type=\"text\" name=\"q\" placeholder=\"Encontre notícias, assuntos e pessoas\" autocomplete=\"off\" /> </div> </form></div><div class=\"row\"> <div class=\"col-lg-8 col-xs-12 col-sm-12\"> <ul class=\"navbar\"> <li class=\"inline-block perfil item-1 \" > <a href=\"https://acesso.estadao.com.br/login/minha-conta\" class=\"change-menu-hamburguer\" > <span class=\"icon icon-perfil minha-conta-picture-mobile\"></span> <span class=\"text\">Perfil</span> </a> </li> <li class=\"inline-block transito item-2 \" > <a href=\"https://transito.estadao.com.br\" > <span class=\"icon icon-transito\"></span> <span class=\"text\">Trânsito</span> </a> </li> <li class=\"inline-block tempo item-3 \" > <a href=\"https://www.estadao.com.br/clima-e-tempo/sp-sao-paulo/\" > <span class=\"icon icon-tempo\"></span> <span class=\"text\">Tempo</span> </a> </li> <li class=\"inline-block horoscopo item-4 \" > <a href=\"https://emais.estadao.com.br/horoscopo\" > <span class=\"icon icon-horoscopo\"></span> <span class=\"text\">Horóscopo</span> </a> </li> <li class=\"inline-block quadrinhos item-5 \" > <a href=\"https://cultura.estadao.com.br/quadrinhos\" > <span class=\"icon icon-quadrinhos\"></span> <span class=\"text\">Quadrinhos</span> </a> </li> <li class=\"inline-block loterias item-6 \" > <a href=\"https://loterias.estadao.com.br/mega-sena\" > <span class=\"icon icon-loterias\"></span> <span class=\"text\">Loterias</span> </a> </li> <li class=\"inline-block aplicativos item-7 \" > <a href=\"https://www.estadao.com.br/aplicativos/\" > <span class=\"icon icon-aplicativos\"></span> <span class=\"text\">Aplicativos</span> </a> </li> <li class=\"inline-block assine item-8 hidden\" > <a href=\"https://assine.estadao.com.br/?&utm_source=portal_estadao_selo_acesso&utm_medium=portal_estadao_selo_acesso&utm_campaign=portal_estadao_selo_acesso\" target=\"_blank\"> <span class=\"icon icon-assine\"></span> <span class=\"text\">Assine</span> </a> </li> </ul> <div class=\"menu-list\"> <ul> <li> <a href=\"https://opiniao.estadao.com.br\" > Opinião <i class=\"ico-arrow-right\"></i> </a> </li> <li> <a href=\"https://politica.estadao.com.br\" > Política <i class=\"ico-arrow-right\"></i> </a> </li> <li> <a href=\"https://economia.estadao.com.br\" > Economia & Negócios <i class=\"ico-arrow-right\"></i> </a> </li> <li> <a href=\"https://brasil.estadao.com.br\" > Brasil <i class=\"ico-arrow-right\"></i> </a> </li> <li> <a href=\"https://internacional.estadao.com.br\" > Internacional <i class=\"ico-arrow-right\"></i> </a> </li> <li> <a href=\"https://esportes.estadao.com.br\" > Esportes <i class=\"ico-arrow-right\"></i> </a> </li> <li> <a href=\"https://cultura.estadao.com.br\" > Cultura <i class=\"ico-arrow-right\"></i> </a> </li> <li> <a href=\"https://www.estadao.com.br/ultimas\" > Últimas <i class=\"ico-arrow-right\"></i> </a> </li> </ul> </div> <div class=\"menu-list\"> <ul> <li> <a href=\"https://acervo.estadao.com.br/\" > Acervo <i class=\"ico-arrow-right\"></i> </a> </li> <li> <a href=\"http://pme.estadao.com.br/\" > PME <i class=\"ico-arrow-right\"></i> </a> </li> <li> <a href=\"http://jornaldocarro.estadao.com.br/\" > Jornal do Carro <i class=\"ico-arrow-right\"></i> </a> </li> <li> <a href=\"https://paladar.estadao.com.br/\" > Paladar <i class=\"ico-arrow-right\"></i> </a> </li> <li> <a href=\"https://link.estadao.com.br/\" > Link <i class=\"ico-arrow-right\"></i> </a> </li> <li> <a href=\"https://emais.estadao.com.br/\" > E+ <i class=\"ico-arrow-right\"></i> </a> </li> <li> <a href=\"https://viagem.estadao.com.br/\" > Viagem <i class=\"ico-arrow-right\"></i> </a> </li> <li> <a href=\"http://www.classificadosestadao.com.br/\" > Classificados <i class=\"ico-arrow-right\"></i> </a> </li> </ul> </div> <div class=\"menu-list\"> <ul> <li> <a href=\"https://eldorado.estadao.com.br\" > Rádio Eldorado <i class=\"ico-arrow-right\"></i> </a> </li> <li> <a href=\"https://alias.estadao.com.br/\" > Aliás <i class=\"ico-arrow-right\"></i> </a> </li> <li> <a href=\"https://educacao.estadao.com.br/\" > Educação <i class=\"ico-arrow-right\"></i> </a> </li> <li> <a href=\"https://ciencia.estadao.com.br/\" > Ciência <i class=\"ico-arrow-right\"></i> </a> </li> <li> <a href=\"https://sustentabilidade.estadao.com.br/\" > Sustentabilidade <i class=\"ico-arrow-right\"></i> </a> </li> <li> <a href=\"https://saude.estadao.com.br/\" > Saúde <i class=\"ico-arrow-right\"></i> </a> </li> <li> <a href=\"https://sao-paulo.estadao.com.br/\" > São Paulo <i class=\"ico-arrow-right\"></i> </a> </li> </ul> </div> <div class=\"menu-list\"> <ul> <li> <a href=\"https://tudo-sobre.estadao.com.br/\" > Tudo Sobre <i class=\"ico-arrow-right\"></i> </a> </li> <li> <a href=\"https://www.estadao.com.br/ao-vivo/\" > Ao Vivo <i class=\"ico-arrow-right\"></i> </a> </li> <li> <a href=\"https://www.estadao.com.br/blogs/\" > Blogs <i class=\"ico-arrow-right\"></i> </a> </li> <li> <a href=\"https://www.estadao.com.br/colunas/\" > Colunas <i class=\"ico-arrow-right\"></i> </a> </li> <li> <a href=\"https://tv.estadao.com.br/\" > TV Estadão <i class=\"ico-arrow-right\"></i> </a> </li> <li> <a href=\"https://www.estadao.com.br/aplicativos/\" > Aplicativos <i class=\"ico-arrow-right\"></i> </a> </li> <li> <a href=\"https://www.estadao.com.br/infograficos\" > Infográficos <i class=\"ico-arrow-right\"></i> </a> </li> <li> <a href=\"https://fotos.estadao.com.br/\" > Fotos <i class=\"ico-arrow-right\"></i> </a> </li> <li> <a href=\"http://voce.estadao.com.br/\" > Você no Estadão <i class=\"ico-arrow-right\"></i> </a> </li> <li> <a href=\"http://blog.estadaodados.com/\" > Estadão Dados <i class=\"ico-arrow-right\"></i> </a> </li> </ul> </div> <div class=\"menu-list\"> <ul> <li> <a href=\"https://emais.estadao.com.br/horoscopo\" > Horóscopo <i class=\"ico-arrow-right\"></i> </a> </li> <li> <a href=\"https://loterias.estadao.com.br/mega-sena\" > Loterias <i class=\"ico-arrow-right\"></i> </a> </li> <li> <a href=\"https://www.estadao.com.br/clima-e-tempo/sp-sao-paulo/\" > Tempo <i class=\"ico-arrow-right\"></i> </a> </li> <li> <a href=\"https://transito.estadao.com.br/\" > Trânsito <i class=\"ico-arrow-right\"></i> </a> </li> <li> <a href=\"https://www.estadao.com.br/newsletters/\" > Newsletter <i class=\"ico-arrow-right\"></i> </a> </li> <li> <a href=\"https://cultura.estadao.com.br/quadrinhos\" > Quadrinhos <i class=\"ico-arrow-right\"></i> </a> </li> <li> <a href=\"https://arte.estadao.com.br/jogos/sudoku/\" > Sudoku <i class=\"ico-arrow-right\"></i> </a> </li> <li> <a href=\"https://arte.estadao.com.br/jogos/palavras-cruzadas/\" > Cruzadas <i class=\"ico-arrow-right\"></i> </a> </li> </ul> </div> <div class=\"menu-list\"> <ul> <li> <a href=\"https://imoveis.moving.com.br/\" target=\"_blank\" > Moving <i class=\"ico-arrow-right\"></i> </a> </li> <li> <a href=\"https://estradao.estadao.com.br/\" target=\"_blank\" > Estradão <i class=\"ico-arrow-right\"></i> </a> </li> <li> <a href=\"http://www.broadcastpolitico.com.br/\" > Broadcast Político <i class=\"ico-arrow-right\"></i> </a> </li> <li> <a href=\"http://economia.estadao.com.br/broadcast/\" > Broadcast Econômico <i class=\"ico-arrow-right\"></i> </a> </li> </ul> </div> </div> </div> </div> </section></header><div class=\"clearfix\"></div> <img src=\"https://statics.estadao.com.br/s2016/portal/img/others/logo-black-print.png\" class=\"logo-for-print\" style=\"display: none;\" /><section class=\"col-md-12 col-sm-12 col-xs-12 htopo-style\"><div id=\\'htopo-0\\' class=\\'publicidade dfp\\' data-screenmap=\\'Horizontal_Max_N_T_100\\' data-target=\\'{\"formato\":\"htopo\",\"page_url\":\"politica.estadao.com.br,eleicoes,2020,candidatos\",\"pg_tipo\":\"eleicoes\",\"tags\":false}\\' data-status=\\'init\\' ></div></section> <section class=\"container editorial\" id=\"\"> <div class=\"row\"> <section class=\"col-md-8 col-sm-12 col-xs-12 content\"> <div class=\"row\"> <div class=\"col-xs-12\"> <div class=\"mold-busca\"> <h2 class=\"title-secundary uppercase cor-e\" title=\"Busque Seu Candidato\">Busque Seu Candidato</h2> <form action=\"/eleicoes/2020/busca\" method=\"get\" class=\"form-busca-candidatos\"> <div class=\"mold-content-busca \"> <div class=\"form-row\"> <div class=\"form-group col input-uf\"> <div class=\"custom-select \"> <select id=\"sel-est-candidatos\" name=\"sigla_uf\" class=\"form-control\"> <option value=\"\">UF</option> <option value=\"ac\" >AC</option> <option value=\"al\" >AL</option> <option value=\"ap\" >AP</option> <option value=\"am\" >AM</option> <option value=\"ba\" >BA</option> <option value=\"ce\" >CE</option> <option value=\"es\" >ES</option> <option value=\"go\" >GO</option> <option value=\"ma\" >MA</option> <option value=\"mt\" >MT</option> <option value=\"ms\" >MS</option> <option value=\"mg\" >MG</option> <option value=\"pa\" >PA</option> <option value=\"pb\" >PB</option> <option value=\"pr\" >PR</option> <option value=\"pe\" >PE</option> <option value=\"pi\" >PI</option> <option value=\"rj\" >RJ</option> <option value=\"rn\" >RN</option> <option value=\"rs\" >RS</option> <option value=\"ro\" >RO</option> <option value=\"rr\" >RR</option> <option value=\"sc\" >SC</option> <option value=\"sp\" >SP</option> <option value=\"se\" >SE</option> <option value=\"to\" >TO</option> </select> </div> </div> <div class=\"form-group col input-cidades\"> <div class=\"mold-autocomplete-select\"> <div class=\"autocomplete-select \"> <div class=\"autocomplete\"> <input type=\"text\" autocomplete=\"off\" class=\"autocomplete-input uppercase\" name=\"municipio_search\" placeholder=\"Cidade\" value=\"\" disabled> <div class=\"autocomplete-list\"> <ul></ul> <img class=\"loading-autocomplete\" src=\"https://statics.estadao.com.br/s2016/portal/eleicoes2020/img/svg/loading-autocomplete.svg\" alt=\"Loading\" /> </div> </div> </div> </div> </div> <div class=\"form-group col input-busca \"> <input type=\"text\" name=\"search\" class=\"form-control\" placeholder=\"Nome ou n. do candidato\" data-js=\"input-search\" value=\"\"> </div> </div> <div class=\"busca-body\"> <div class=\"form-row\"> <div class=\"form-group col input-partido\"> <div class=\"custom-dropdown \"> <div class=\"form-control\" data-js=\"custom-dropdown\"> <span class=\"item-label\">Partido</span> <span class=\"item-valor\"></span> </div> <ul class=\"custom-dropdown-menu\" role=\"menu\"> <li role=\"presentation\"> <label class=\"list-checked\"> <input class=\"input\" type=\"checkbox\" name=\"sigla_partido[]\" value=\"AVANTE\" > <div class=\"item\"><span>Avante</span></div> </label> </li> <li role=\"presentation\"> <label class=\"list-checked\"> <input class=\"input\" type=\"checkbox\" name=\"sigla_partido[]\" value=\"CIDADANIA\" > <div class=\"item\"><span>Cidadania</span></div> </label> </li> <li role=\"presentation\"> <label class=\"list-checked\"> <input class=\"input\" type=\"checkbox\" name=\"sigla_partido[]\" value=\"DC\" > <div class=\"item\"><span>dc</span></div> </label> </li> <li role=\"presentation\"> <label class=\"list-checked\"> <input class=\"input\" type=\"checkbox\" name=\"sigla_partido[]\" value=\"DEM\" > <div class=\"item\"><span>Dem</span></div> </label> </li> <li role=\"presentation\"> <label class=\"list-checked\"> <input class=\"input\" type=\"checkbox\" name=\"sigla_partido[]\" value=\"MDB\" > <div class=\"item\"><span>Mdb</span></div> </label> </li> <li role=\"presentation\"> <label class=\"list-checked\"> <input class=\"input\" type=\"checkbox\" name=\"sigla_partido[]\" value=\"NOVO\" > <div class=\"item\"><span>Novo</span></div> </label> </li> <li role=\"presentation\"> <label class=\"list-checked\"> <input class=\"input\" type=\"checkbox\" name=\"sigla_partido[]\" value=\"PATRIOTA\" > <div class=\"item\"><span>PATRIOTA</span></div> </label> </li> <li role=\"presentation\"> <label class=\"list-checked\"> <input class=\"input\" type=\"checkbox\" name=\"sigla_partido[]\" value=\"PC do B\" > <div class=\"item\"><span>PC do B</span></div> </label> </li> <li role=\"presentation\"> <label class=\"list-checked\"> <input class=\"input\" type=\"checkbox\" name=\"sigla_partido[]\" value=\"PCB\" > <div class=\"item\"><span>Pcb</span></div> </label> </li> <li role=\"presentation\"> <label class=\"list-checked\"> <input class=\"input\" type=\"checkbox\" name=\"sigla_partido[]\" value=\"PCO\" > <div class=\"item\"><span>Pco</span></div> </label> </li> <li role=\"presentation\"> <label class=\"list-checked\"> <input class=\"input\" type=\"checkbox\" name=\"sigla_partido[]\" value=\"PDT\" > <div class=\"item\"><span>Pdt</span></div> </label> </li> <li role=\"presentation\"> <label class=\"list-checked\"> <input class=\"input\" type=\"checkbox\" name=\"sigla_partido[]\" value=\"PL\" > <div class=\"item\"><span>Pl</span></div> </label> </li> <li role=\"presentation\"> <label class=\"list-checked\"> <input class=\"input\" type=\"checkbox\" name=\"sigla_partido[]\" value=\"PMB\" > <div class=\"item\"><span>Pmb</span></div> </label> </li> <li role=\"presentation\"> <label class=\"list-checked\"> <input class=\"input\" type=\"checkbox\" name=\"sigla_partido[]\" value=\"PMN\" > <div class=\"item\"><span>Pmn</span></div> </label> </li> <li role=\"presentation\"> <label class=\"list-checked\"> <input class=\"input\" type=\"checkbox\" name=\"sigla_partido[]\" value=\"PODE\" > <div class=\"item\"><span>Pode</span></div> </label> </li> <li role=\"presentation\"> <label class=\"list-checked\"> <input class=\"input\" type=\"checkbox\" name=\"sigla_partido[]\" value=\"PP\" > <div class=\"item\"><span>Pp</span></div> </label> </li> <li role=\"presentation\"> <label class=\"list-checked\"> <input class=\"input\" type=\"checkbox\" name=\"sigla_partido[]\" value=\"PROS\" > <div class=\"item\"><span>Pros</span></div> </label> </li> <li role=\"presentation\"> <label class=\"list-checked\"> <input class=\"input\" type=\"checkbox\" name=\"sigla_partido[]\" value=\"PRTB\" > <div class=\"item\"><span>Prtb</span></div> </label> </li> <li role=\"presentation\"> <label class=\"list-checked\"> <input class=\"input\" type=\"checkbox\" name=\"sigla_partido[]\" value=\"PSC\" > <div class=\"item\"><span>Psc</span></div> </label> </li> <li role=\"presentation\"> <label class=\"list-checked\"> <input class=\"input\" type=\"checkbox\" name=\"sigla_partido[]\" value=\"PSD\" > <div class=\"item\"><span>Psd</span></div> </label> </li> <li role=\"presentation\"> <label class=\"list-checked\"> <input class=\"input\" type=\"checkbox\" name=\"sigla_partido[]\" value=\"PSDB\" > <div class=\"item\"><span>Psdb</span></div> </label> </li> <li role=\"presentation\"> <label class=\"list-checked\"> <input class=\"input\" type=\"checkbox\" name=\"sigla_partido[]\" value=\"PSL\" > <div class=\"item\"><span>Psl</span></div> </label> </li> <li role=\"presentation\"> <label class=\"list-checked\"> <input class=\"input\" type=\"checkbox\" name=\"sigla_partido[]\" value=\"PSOL\" > <div class=\"item\"><span>Psol</span></div> </label> </li> <li role=\"presentation\"> <label class=\"list-checked\"> <input class=\"input\" type=\"checkbox\" name=\"sigla_partido[]\" value=\"PSTU\" > <div class=\"item\"><span>Pstu</span></div> </label> </li> <li role=\"presentation\"> <label class=\"list-checked\"> <input class=\"input\" type=\"checkbox\" name=\"sigla_partido[]\" value=\"PT\" > <div class=\"item\"><span>Pt</span></div> </label> </li> <li role=\"presentation\"> <label class=\"list-checked\"> <input class=\"input\" type=\"checkbox\" name=\"sigla_partido[]\" value=\"PTB\" > <div class=\"item\"><span>Ptb</span></div> </label> </li> <li role=\"presentation\"> <label class=\"list-checked\"> <input class=\"input\" type=\"checkbox\" name=\"sigla_partido[]\" value=\"PTC\" > <div class=\"item\"><span>Ptc</span></div> </label> </li> <li role=\"presentation\"> <label class=\"list-checked\"> <input class=\"input\" type=\"checkbox\" name=\"sigla_partido[]\" value=\"PV\" > <div class=\"item\"><span>Pv</span></div> </label> </li> <li role=\"presentation\"> <label class=\"list-checked\"> <input class=\"input\" type=\"checkbox\" name=\"sigla_partido[]\" value=\"REDE\" > <div class=\"item\"><span>Rede</span></div> </label> </li> <li role=\"presentation\"> <label class=\"list-checked\"> <input class=\"input\" type=\"checkbox\" name=\"sigla_partido[]\" value=\"REPUBLICANOS\" > <div class=\"item\"><span>Republicanos</span></div> </label> </li> <li role=\"presentation\"> <label class=\"list-checked\"> <input class=\"input\" type=\"checkbox\" name=\"sigla_partido[]\" value=\"SOLIDARIEDADE\" > <div class=\"item\"><span>Solidariedade</span></div> </label> </li> <li role=\"presentation\"> <label class=\"list-checked\"> <input class=\"input\" type=\"checkbox\" name=\"sigla_partido[]\" value=\"UP\" > <div class=\"item\"><span>Up</span></div> </label> </li> </ul> </div> </div> <div class=\"form-group col input-cargo\"> <div class=\"custom-dropdown \"> <div class=\"form-control\" data-js=\"custom-dropdown\"> <span class=\"item-label\">Cargo</span> <span class=\"item-valor\"></span> </div> <ul class=\"custom-dropdown-menu\" role=\"menu\"> <li role=\"presentation\"> <label class=\"list-checked\"> <input class=\"input\" type=\"checkbox\" name=\"descricao_cargo[]\" value=\"PREFEITO\" > <div class=\"item\"><span>Prefeito/a</span></div> </label> </li> <li role=\"presentation\"> <label class=\"list-checked\"> <input class=\"input\" type=\"checkbox\" name=\"descricao_cargo[]\" value=\"VICE-PREFEITO\" > <div class=\"item\"><span>Vice-Prefeito/a</span></div> </label> </li> <li role=\"presentation\"> <label class=\"list-checked\"> <input class=\"input\" type=\"checkbox\" name=\"descricao_cargo[]\" value=\"VEREADOR\" > <div class=\"item\"><span>Vereador/a</span></div> </label> </li> </ul> </div> </div> <div class=\"form-group col input-idade\"> <div class=\"custom-dropdown \"> <div class=\"form-control\" data-js=\"custom-dropdown\"> <span class=\"item-label\">Idade</span> <span class=\"item-valor\"></span> </div> <ul class=\"custom-dropdown-menu\" role=\"menu\"> <li role=\"presentation\"> <div class=\"form-group\"> <label for=\"label-control\" class=\"label-control\">De</label> <input type=\"text\" class=\"form-control\" name=\"idade_data_eleicao_min\" value=\"\" data-js=\"idade-field\"> </div> <div class=\"form-group\"> <label for=\"label-control\" class=\"label-control\">Até</label> <input type=\"text\" class=\"form-control\" name=\"idade_data_eleicao_max\" value=\"\" data-js=\"idade-field\"> </div> <button type=\"submit\" class=\"bt -bg-fill\" data-js=\"filtrar-range\" disabled=\"disabled\">Filtrar</button> </li> </ul> </div> </div> <div class=\"form-group col input-grau\"> <div class=\"custom-dropdown \"> <div class=\"form-control\" data-js=\"custom-dropdown\"> <span class=\"item-label\">Grau de Instrução</span> <span class=\"item-valor\"></span> </div> <ul class=\"custom-dropdown-menu\" role=\"menu\"> <li role=\"presentation\"> <label class=\"list-checked\"> <input class=\"input\" type=\"checkbox\" name=\"descricao_grau_instrucao[]\" value=\"SUPERIOR COMPLETO\" > <div class=\"item\"><span>Ensino Superior Completo</span></div> </label> </li> <li role=\"presentation\"> <label class=\"list-checked\"> <input class=\"input\" type=\"checkbox\" name=\"descricao_grau_instrucao[]\" value=\"SUPERIOR INCOMPLETO\" > <div class=\"item\"><span>Ensino Superior Incompleto</span></div> </label> </li> <li role=\"presentation\"> <label class=\"list-checked\"> <input class=\"input\" type=\"checkbox\" name=\"descricao_grau_instrucao[]\" value=\"ENSINO MÉDIO COMPLETO\" > <div class=\"item\"><span>Ensino Médio Completo</span></div> </label> </li> <li role=\"presentation\"> <label class=\"list-checked\"> <input class=\"input\" type=\"checkbox\" name=\"descricao_grau_instrucao[]\" value=\"ENSINO MÉDIO INCOMPLETO\" > <div class=\"item\"><span>Ensino Médio Incompleto</span></div> </label> </li> <li role=\"presentation\"> <label class=\"list-checked\"> <input class=\"input\" type=\"checkbox\" name=\"descricao_grau_instrucao[]\" value=\"ENSINO FUNDAMENTAL COMPLETO\" > <div class=\"item\"><span>Ensino Fundamental Completo</span></div> </label> </li> <li role=\"presentation\"> <label class=\"list-checked\"> <input class=\"input\" type=\"checkbox\" name=\"descricao_grau_instrucao[]\" value=\"ENSINO FUNDAMENTAL INCOMPLETO\" > <div class=\"item\"><span>Ensino Fundamental Incompleto</span></div> </label> </li> <li role=\"presentation\"> <label class=\"list-checked\"> <input class=\"input\" type=\"checkbox\" name=\"descricao_grau_instrucao[]\" value=\"LÊ E ESCREVE\" > <div class=\"item\"><span>Lê e Escreve</span></div> </label> </li> <li role=\"presentation\"> <label class=\"list-checked\"> <input class=\"input\" type=\"checkbox\" name=\"descricao_grau_instrucao[]\" value=\"ANALFABETO\" > <div class=\"item\"><span>Analfabeto</span></div> </label> </li> </ul> </div> </div> <div class=\"form-group col input-estado-civil\"> <div class=\"custom-dropdown \"> <div class=\"form-control\" data-js=\"custom-dropdown\"> <span class=\"item-label\">Estado Civil</span> <span class=\"item-valor\"></span> </div> <ul class=\"custom-dropdown-menu\" role=\"menu\"> <li role=\"presentation\"> <label class=\"list-checked\"> <input class=\"input\" type=\"checkbox\" name=\"descricao_estado_civil[]\" value=\"casado\" > <div class=\"item\"><span>Casado/a</span></div> </label> </li> <li role=\"presentation\"> <label class=\"list-checked\"> <input class=\"input\" type=\"checkbox\" name=\"descricao_estado_civil[]\" value=\"solteiro\" > <div class=\"item\"><span>Solteiro/a</span></div> </label> </li> <li role=\"presentation\"> <label class=\"list-checked\"> <input class=\"input\" type=\"checkbox\" name=\"descricao_estado_civil[]\" value=\"divorciado\" > <div class=\"item\"><span>Divorciado/a</span></div> </label> </li> <li role=\"presentation\"> <label class=\"list-checked\"> <input class=\"input\" type=\"checkbox\" name=\"descricao_estado_civil[]\" value=\"separado\" > <div class=\"item\"><span>Separado/a Judicialmente</span></div> </label> </li> <li role=\"presentation\"> <label class=\"list-checked\"> <input class=\"input\" type=\"checkbox\" name=\"descricao_estado_civil[]\" value=\"viúvo\" > <div class=\"item\"><span>Viúvo/a</span></div> </label> </li> </ul> </div> </div> <div class=\"form-group col input-genero\"> <div class=\"custom-dropdown \"> <div class=\"form-control\" data-js=\"custom-dropdown\"> <span class=\"item-label\">Gênero</span> <span class=\"item-valor\"></span> </div> <ul class=\"custom-dropdown-menu\" role=\"menu\"> <li role=\"presentation\"> <label class=\"list-checked\"> <input class=\"input\" type=\"checkbox\" name=\"descricao_sexo[]\" value=\"masculino\" > <div class=\"item\"><span>Masculino</span></div> </label> </li> <li role=\"presentation\"> <label class=\"list-checked\"> <input class=\"input\" type=\"checkbox\" name=\"descricao_sexo[]\" value=\"feminino\" > <div class=\"item\"><span>Feminino</span></div> </label> </li> </ul> </div> </div> <div class=\"form-group col input-etnia\"> <div class=\"custom-dropdown \"> <div class=\"form-control\" data-js=\"custom-dropdown\"> <span class=\"item-label\">Cor/raça</span> <span class=\"item-valor\"></span> </div> <ul class=\"custom-dropdown-menu\" role=\"menu\"> <li role=\"presentation\"> <label class=\"list-checked\"> <input class=\"input\" type=\"checkbox\" name=\"descricao_cor_raca[]\" value=\"amarela\" > <div class=\"item\"><span>Amarelo</span></div> </label> </li> <li role=\"presentation\"> <label class=\"list-checked\"> <input class=\"input\" type=\"checkbox\" name=\"descricao_cor_raca[]\" value=\"branca\" > <div class=\"item\"><span>Branco</span></div> </label> </li> <li role=\"presentation\"> <label class=\"list-checked\"> <input class=\"input\" type=\"checkbox\" name=\"descricao_cor_raca[]\" value=\"indígena\" > <div class=\"item\"><span>Indígena</span></div> </label> </li> <li role=\"presentation\"> <label class=\"list-checked\"> <input class=\"input\" type=\"checkbox\" name=\"descricao_cor_raca[]\" value=\"preta\" > <div class=\"item\"><span>Parda</span></div> </label> </li> <li role=\"presentation\"> <label class=\"list-checked\"> <input class=\"input\" type=\"checkbox\" name=\"descricao_cor_raca[]\" value=\"preta\" > <div class=\"item\"><span>Preta</span></div> </label> </li> <li role=\"presentation\"> <label class=\"list-checked\"> <input class=\"input\" type=\"checkbox\" name=\"descricao_cor_raca[]\" value=\"sem\" > <div class=\"item\"><span>Sem informação</span></div> </label> </li> </ul> </div> </div> <div class=\"form-group col input-despesas\"> <div class=\"custom-dropdown \"> <div class=\"form-control\" data-js=\"custom-dropdown\"> <span class=\"item-label\">Despesas</span> </div> <ul class=\"custom-dropdown-menu\" role=\"menu\"> <li role=\"presentation\"> <div class=\"form-group\"> <label for=\"label-control\" class=\"label-control\">De</label> <input type=\"text\" class=\"form-control\" name=\"despesa_min_campanha\" data-js=\"dolar-field\" placeholder=\"R$\" value=\"\"> </div> <div class=\"form-group\"> <label for=\"label-control\" class=\"label-control\">Até</label> <input type=\"text\" class=\"form-control\" name=\"despesa_max_campanha\" data-js=\"dolar-field\" placeholder=\"R$\" value=\"\"> </div> <button type=\"submit\" class=\"bt -bg-fill\" data-js=\"filtrar-range\" disabled=\"disabled\">Filtrar</button> </li> </ul> </div> </div> <div class=\"form-group col input-situacao\"> <div class=\"custom-dropdown \"> <div class=\"form-control\" data-js=\"custom-dropdown\"> <span class=\"item-label\">Situação da candidatura</span> <span class=\"item-valor\"></span> </div> <ul class=\"custom-dropdown-menu\" role=\"menu\"> <li role=\"presentation\"> <label class=\"list-checked\"> <input class=\"input\" type=\"checkbox\" name=\"cod_situacao_candidatura[]\" value=\"1\" > <div class=\"item\"><span>Cadastrado</span></div> </label> </li> <li role=\"presentation\"> <label class=\"list-checked\"> <input class=\"input\" type=\"checkbox\" name=\"cod_situacao_candidatura[]\" value=\"12\" > <div class=\"item\"><span>Apto</span></div> </label> </li> <li role=\"presentation\"> <label class=\"list-checked\"> <input class=\"input\" type=\"checkbox\" name=\"cod_situacao_candidatura[]\" value=\"3\" > <div class=\"item\"><span>Inapto</span></div> </label> </li> </ul> </div> </div> </div> </div> <div class=\"busca-bottom\"> <div class=\"form-row\"> <div class=\"form-group col input-button-mais\"> <a href=\"#\" class=\"bt -blue-full\" title=\"Mais\" data-js=\"button-mais\"> <i class=\"ico-arrow-down\"></i> </a> </div> <div class=\"form-group col input-button-buscar\"> <input type=\"submit\" class=\"bt -bg-fill\" value=\"Buscar\" data-js=\"button-buscar\" disabled=\"disabled\"> </div> </div> </div> </div> </form> </div></div><div class=\"col-xs-12\"> <div class=\"container-candidatos\"> <div class=\"mold-title\"> <h2 class=\"chapeu title-primary -black\" title=\"S&atilde;o Paulo - SP\"> <a href=\"https://politica.estadao.com.br/eleicoes/2020/candidatos/sp/sao-paulo\">S&atilde;o Paulo - SP</a> </h2> </div> <div class=\"mold-title-share\"> <h2 class=\"chapeu cor-e title-secundary uppercase\" title=\"Candidatos a prefeito\"> <a href=\"https://politica.estadao.com.br/eleicoes/2020/candidatos/sp/sao-paulo/prefeito\">Candidatos a prefeito</a> </h2> <ul class=\"share \"> <li class=\"hidden\"> <a href=\"javascript:void(0);\" class=\"balloon comentarios-balaozinho\" data-ancora=\\'noticia_1\\' title=\"Comentários\"> </a> </li> <li class=\"facebook \"> <a href=\"https://www.facebook.com/sharer/sharer.php?u=https://politica.estadao.com.br/eleicoes/2020/candidatos/sp/sao-paulo/prefeito%3Futm_source%3Destadao%3Afacebook%26utm_medium%3Dlink\" target=\"_blank\" class=\"ico-facebook\" title=\"Compartilhe pelo Facebook\" >&nbsp;</a> </li> <li class=\"whatsapp \"> <a href=\"whatsapp://send?text=Candidatos+a+prefeito+de+S%C3%A3o+Paulo+-+SP%20Estad%C3%A3o%3A%20https://politica.estadao.com.br/eleicoes/2020/candidatos/sp/sao-paulo/prefeito%3Futm_source%3Destadao%3Awhatsapp%26utm_medium%3Dlink\" class=\"ico-whatsapp\" title=\"Compartilhe pelo WhatsApp\">&nbsp;</a> </li> <li class=\"twitter \"> <a href=\"https://twitter.com/intent/tweet?text=Candidatos a prefeito de São Paulo - SP%20@estadao%3A%20&amp;url=https://politica.estadao.com.br/eleicoes/2020/candidatos/sp/sao-paulo/prefeito%3Futm_source%3Destadao%3Atwitter%26utm_medium%3Dlink\" target=\"_blank\" class=\"ico-twitter\" title=\"Compartilhe pelo Twitter\" >&nbsp;</a> </li> <li class=\"other \"> <a href=\"javascript:void(0);\" class=\"ico-dots-three-horizontal \" title=\"Mais compartilhamentos\" data-href=\"https://politica.estadao.com.br/eleicoes/2020/candidatos/sp/sao-paulo/prefeito\" data-title=\"Candidatos a prefeito de São Paulo - SP\">&nbsp;</a> <div class=\"share-more\" > <div class=\"share-total\" data-url=\"https://politica.estadao.com.br/eleicoes/2020/candidatos/sp/sao-paulo/prefeito\"></div> <ul> <li class=\"twitter\"> <a href=\"https://twitter.com/intent/tweet?text=Candidatos a prefeito de São Paulo - SP%20@estadao%3A%20&amp;url=https://politica.estadao.com.br/eleicoes/2020/candidatos/sp/sao-paulo/prefeito%3Futm_source%3Destadao%3Atwitter%26utm_medium%3Dlink\" target=\"_blank\" class=\"ico-twitter\" > <span>twitter</span> </a> </li> <li class=\"linkedin\"> <a href=\"https://www.linkedin.com/cws/share?url=https://politica.estadao.com.br/eleicoes/2020/candidatos/sp/sao-paulo/prefeito%3Futm_source%3Destadao%3Alinkedin%26utm_medium%3Dlink\" target=\"_blank\" class=\"ico-linkedin\" > <span>linkedin</span> </a> </li> <li class=\"email\"> <a href=\"mailto:?subject=Candidatos a prefeito de São Paulo - SP&amp;body=Candidatos a prefeito de São Paulo - SP - https://politica.estadao.com.br/eleicoes/2020/candidatos/sp/sao-paulo/prefeito%3Futm_source%3Destadao%3Amail%26utm_medium%3Dlink\" class=\"ico-envelope-o\" > <span>e-mail</span> </a> </li> <li class=\"print\"> <a href=\"javascript:window.print();\" class=\"ico-printer-text\" > <span>imprimir</span> </a> </li> </ul> </div> </li></ul> </div> <div class=\"mold-candidatos\"> <div class=\"list-candidatos\"> <div class=\"row\"> <div class=\"col-xs-12 -only\"> <a href=\"https://politica.estadao.com.br/eleicoes/2020/candidatos/sp/sao-paulo/prefeito/andrea-matarazzo,55\" title=\"andrea matarazzo\"> <div class=\"mold-cand \"> <div class=\"cand-mask\"> <img class=\"elazy\" onerror=this.onerror=null;this.src=&#039;https://statics.estadao.com.br/s2016/portal/eleicoes2020/img/img_placeholder.png&#039;; data-src=\"https://img.estadao.com.br/fotos/politica/eleicoes-2020/SP/FSP250000661535_div.jpg\" alt=\"andrea matarazzo\"/> </div> <div class=\"cand-desc\"> <h3 class=\"cand-name\">andrea matarazzo</h3> <span class=\"cand-partido\">PSD</span> </div> </div> </a> </div> <div class=\"col-xs-12 -only\"> <a href=\"https://politica.estadao.com.br/eleicoes/2020/candidatos/sp/sao-paulo/prefeito/antonio-carlos,29\" title=\"ant&ocirc;nio carlos\"> <div class=\"mold-cand \"> <div class=\"cand-mask\"> <img class=\"elazy\" onerror=this.onerror=null;this.src=&#039;https://statics.estadao.com.br/s2016/portal/eleicoes2020/img/img_placeholder.png&#039;; data-src=\"https://img.estadao.com.br/fotos/politica/eleicoes-2020/SP/FSP250001172314_div.jpg\" alt=\"ant&ocirc;nio carlos\"/> </div> <div class=\"cand-desc\"> <h3 class=\"cand-name\">ant&ocirc;nio carlos</h3> <span class=\"cand-partido\">PCO</span> </div> </div> </a> </div> <div class=\"col-xs-12 -only\"> <a href=\"https://politica.estadao.com.br/eleicoes/2020/candidatos/sp/sao-paulo/prefeito/arthur-do-val-mamae-falei,51\" title=\"arthur do val mam&atilde;e falei\"> <div class=\"mold-cand \"> <div class=\"cand-mask\"> <img class=\"elazy\" onerror=this.onerror=null;this.src=&#039;https://statics.estadao.com.br/s2016/portal/eleicoes2020/img/img_placeholder.png&#039;; data-src=\"https://img.estadao.com.br/fotos/politica/eleicoes-2020/SP/FSP250000641390_div.jpg\" alt=\"arthur do val mam&atilde;e falei\"/> </div> <div class=\"cand-desc\"> <h3 class=\"cand-name\">arthur do val mam&atilde;e falei</h3> <span class=\"cand-partido\">PATRIOTA</span> </div> </div> </a> </div> <div class=\"col-xs-12 -only\"> <a href=\"https://politica.estadao.com.br/eleicoes/2020/candidatos/sp/sao-paulo/prefeito/bruno-covas,45\" title=\"bruno covas\"> <div class=\"mold-cand -type-eleito\"> <div class=\"cand-mask\"> <img class=\"elazy\" onerror=this.onerror=null;this.src=&#039;https://statics.estadao.com.br/s2016/portal/eleicoes2020/img/img_placeholder.png&#039;; data-src=\"https://img.estadao.com.br/fotos/politica/eleicoes-2020/SP/FSP250000896546_div.jpg\" alt=\"bruno covas\"/> </div> <div class=\"cand-desc\"> <h3 class=\"cand-name\">bruno covas</h3> <span class=\"cand-partido\">PSDB</span> </div> </div> </a> </div> <div class=\"col-xs-12 -only\"> <a href=\"https://politica.estadao.com.br/eleicoes/2020/candidatos/sp/sao-paulo/prefeito/celso-russomanno,10\" title=\"celso russomanno\"> <div class=\"mold-cand \"> <div class=\"cand-mask\"> <img class=\"elazy\" onerror=this.onerror=null;this.src=&#039;https://statics.estadao.com.br/s2016/portal/eleicoes2020/img/img_placeholder.png&#039;; data-src=\"https://img.estadao.com.br/fotos/politica/eleicoes-2020/SP/FSP250001094597_div.jpg\" alt=\"celso russomanno\"/> </div> <div class=\"cand-desc\"> <h3 class=\"cand-name\">celso russomanno</h3> <span class=\"cand-partido\">REPUBLICANOS</span> </div> </div> </a> </div> <div class=\"col-xs-12 -only\"> <a href=\"https://politica.estadao.com.br/eleicoes/2020/candidatos/sp/sao-paulo/prefeito/guilherme-boulos,50\" title=\"guilherme boulos\"> <div class=\"mold-cand \"> <div class=\"cand-mask\"> <img class=\"elazy\" onerror=this.onerror=null;this.src=&#039;https://statics.estadao.com.br/s2016/portal/eleicoes2020/img/img_placeholder.png&#039;; data-src=\"https://img.estadao.com.br/fotos/politica/eleicoes-2020/SP/FSP250000746936_div.jpg\" alt=\"guilherme boulos\"/> </div> <div class=\"cand-desc\"> <h3 class=\"cand-name\">guilherme boulos</h3> <span class=\"cand-partido\">PSOL</span> </div> </div> </a> </div> <div class=\"col-xs-12 -only\"> <a href=\"https://politica.estadao.com.br/eleicoes/2020/candidatos/sp/sao-paulo/prefeito/jilmar-tatto,13\" title=\"jilmar tatto\"> <div class=\"mold-cand \"> <div class=\"cand-mask\"> <img class=\"elazy\" onerror=this.onerror=null;this.src=&#039;https://statics.estadao.com.br/s2016/portal/eleicoes2020/img/img_placeholder.png&#039;; data-src=\"https://img.estadao.com.br/fotos/politica/eleicoes-2020/SP/FSP250000755896_div.jpg\" alt=\"jilmar tatto\"/> </div> <div class=\"cand-desc\"> <h3 class=\"cand-name\">jilmar tatto</h3> <span class=\"cand-partido\">PT</span> </div> </div> </a> </div> <div class=\"col-xs-12 -only\"> <a href=\"https://politica.estadao.com.br/eleicoes/2020/candidatos/sp/sao-paulo/prefeito/joice-hasselmann,17\" title=\"joice hasselmann\"> <div class=\"mold-cand \"> <div class=\"cand-mask\"> <img class=\"elazy\" onerror=this.onerror=null;this.src=&#039;https://statics.estadao.com.br/s2016/portal/eleicoes2020/img/img_placeholder.png&#039;; data-src=\"https://img.estadao.com.br/fotos/politica/eleicoes-2020/SP/FSP250000658458_div.jpg\" alt=\"joice hasselmann\"/> </div> <div class=\"cand-desc\"> <h3 class=\"cand-name\">joice hasselmann</h3> <span class=\"cand-partido\">PSL</span> </div> </div> </a> </div> <div class=\"col-xs-12 -only\"> <a href=\"https://politica.estadao.com.br/eleicoes/2020/candidatos/sp/sao-paulo/prefeito/levy-fidelix,28\" title=\"levy fidelix\"> <div class=\"mold-cand \"> <div class=\"cand-mask\"> <img class=\"elazy\" onerror=this.onerror=null;this.src=&#039;https://statics.estadao.com.br/s2016/portal/eleicoes2020/img/img_placeholder.png&#039;; data-src=\"https://img.estadao.com.br/fotos/politica/eleicoes-2020/SP/FSP250001013564_div.jpg\" alt=\"levy fidelix\"/> </div> <div class=\"cand-desc\"> <h3 class=\"cand-name\">levy fidelix</h3> <span class=\"cand-partido\">PRTB</span> </div> </div> </a> </div> <div class=\"col-xs-12 -only\"> <a href=\"https://politica.estadao.com.br/eleicoes/2020/candidatos/sp/sao-paulo/prefeito/marina-helou,18\" title=\"marina helou\"> <div class=\"mold-cand \"> <div class=\"cand-mask\"> <img class=\"elazy\" onerror=this.onerror=null;this.src=&#039;https://statics.estadao.com.br/s2016/portal/eleicoes2020/img/img_placeholder.png&#039;; data-src=\"https://img.estadao.com.br/fotos/politica/eleicoes-2020/SP/FSP250001152470_div.jpg\" alt=\"marina helou\"/> </div> <div class=\"cand-desc\"> <h3 class=\"cand-name\">marina helou</h3> <span class=\"cand-partido\">REDE</span> </div> </div> </a> </div> <div class=\"col-xs-12 -only\"> <a href=\"https://politica.estadao.com.br/eleicoes/2020/candidatos/sp/sao-paulo/prefeito/marcio-franca,40\" title=\"m&aacute;rcio fran&ccedil;a\"> <div class=\"mold-cand \"> <div class=\"cand-mask\"> <img class=\"elazy\" onerror=this.onerror=null;this.src=&#039;https://statics.estadao.com.br/s2016/portal/eleicoes2020/img/img_placeholder.png&#039;; data-src=\"https://img.estadao.com.br/fotos/politica/eleicoes-2020/SP/FSP250001012981_div.jpg\" alt=\"m&aacute;rcio fran&ccedil;a\"/> </div> <div class=\"cand-desc\"> <h3 class=\"cand-name\">m&aacute;rcio fran&ccedil;a</h3> <span class=\"cand-partido\">PSB</span> </div> </div> </a> </div> <div class=\"col-xs-12 -only\"> <a href=\"https://politica.estadao.com.br/eleicoes/2020/candidatos/sp/sao-paulo/prefeito/orlando-silva,65\" title=\"orlando silva\"> <div class=\"mold-cand \"> <div class=\"cand-mask\"> <img class=\"elazy\" onerror=this.onerror=null;this.src=&#039;https://statics.estadao.com.br/s2016/portal/eleicoes2020/img/img_placeholder.png&#039;; data-src=\"https://img.estadao.com.br/fotos/politica/eleicoes-2020/SP/FSP250000766422_div.jpg\" alt=\"orlando silva\"/> </div> <div class=\"cand-desc\"> <h3 class=\"cand-name\">orlando silva</h3> <span class=\"cand-partido\">PC do B</span> </div> </div> </a> </div> <div class=\"col-xs-12 -only\"> <a href=\"https://politica.estadao.com.br/eleicoes/2020/candidatos/sp/sao-paulo/prefeito/sabara,30\" title=\"sabar&aacute;\"> <div class=\"mold-cand \"> <div class=\"cand-mask\"> <img class=\"elazy\" onerror=this.onerror=null;this.src=&#039;https://statics.estadao.com.br/s2016/portal/eleicoes2020/img/img_placeholder.png&#039;; data-src=\"https://img.estadao.com.br/fotos/politica/eleicoes-2020/SP/FSP250000693062_div.jpg\" alt=\"sabar&aacute;\"/> </div> <div class=\"cand-desc\"> <h3 class=\"cand-name\">sabar&aacute;</h3> <span class=\"cand-partido\">NOVO</span> </div> </div> </a> </div> <div class=\"col-xs-12 -only\"> <a href=\"https://politica.estadao.com.br/eleicoes/2020/candidatos/sp/sao-paulo/prefeito/vera,16\" title=\"vera\"> <div class=\"mold-cand \"> <div class=\"cand-mask\"> <img class=\"elazy\" onerror=this.onerror=null;this.src=&#039;https://statics.estadao.com.br/s2016/portal/eleicoes2020/img/img_placeholder.png&#039;; data-src=\"https://img.estadao.com.br/fotos/politica/eleicoes-2020/SP/FSP250000744464_div.jpg\" alt=\"vera\"/> </div> <div class=\"cand-desc\"> <h3 class=\"cand-name\">vera</h3> <span class=\"cand-partido\">PSTU</span> </div> </div> </a> </div> </div></div> <div class=\"row-link-arrow\"> <a class=\"link-arrow cor-e uppercase\" href=\"https://politica.estadao.com.br/eleicoes/2020/candidatos/sp/sao-paulo/vereador\"> <span>Veja os candidatos a vereador</span> <i class=\"ico-arrow-right\"></i> </a> </div> </div> </div></div><div class=\"col-xs-12\"> <div class=\"container-candidatos\"> <div class=\"mold-title\"> <h2 class=\"chapeu title-primary -black\" title=\"Rio de Janeiro - RJ\"> <a href=\"https://politica.estadao.com.br/eleicoes/2020/candidatos/rj/rio-de-janeiro\">Rio de Janeiro - RJ</a> </h2> </div> <div class=\"mold-title-share\"> <h2 class=\"chapeu cor-e title-secundary uppercase\" title=\"Candidatos a prefeito\"> <a href=\"https://politica.estadao.com.br/eleicoes/2020/candidatos/rj/rio-de-janeiro/prefeito\">Candidatos a prefeito</a> </h2> <ul class=\"share \"> <li class=\"hidden\"> <a href=\"javascript:void(0);\" class=\"balloon comentarios-balaozinho\" data-ancora=\\'noticia_1\\' title=\"Comentários\"> </a> </li> <li class=\"facebook \"> <a href=\"https://www.facebook.com/sharer/sharer.php?u=https://politica.estadao.com.br/eleicoes/2020/candidatos/rj/rio-de-janeiro/prefeito%3Futm_source%3Destadao%3Afacebook%26utm_medium%3Dlink\" target=\"_blank\" class=\"ico-facebook\" title=\"Compartilhe pelo Facebook\" >&nbsp;</a> </li> <li class=\"whatsapp \"> <a href=\"whatsapp://send?text=Candidatos+a+prefeito+de+Rio+de+Janeiro+-+RJ%20Estad%C3%A3o%3A%20https://politica.estadao.com.br/eleicoes/2020/candidatos/rj/rio-de-janeiro/prefeito%3Futm_source%3Destadao%3Awhatsapp%26utm_medium%3Dlink\" class=\"ico-whatsapp\" title=\"Compartilhe pelo WhatsApp\">&nbsp;</a> </li> <li class=\"twitter \"> <a href=\"https://twitter.com/intent/tweet?text=Candidatos a prefeito de Rio de Janeiro - RJ%20@estadao%3A%20&amp;url=https://politica.estadao.com.br/eleicoes/2020/candidatos/rj/rio-de-janeiro/prefeito%3Futm_source%3Destadao%3Atwitter%26utm_medium%3Dlink\" target=\"_blank\" class=\"ico-twitter\" title=\"Compartilhe pelo Twitter\" >&nbsp;</a> </li> <li class=\"other \"> <a href=\"javascript:void(0);\" class=\"ico-dots-three-horizontal \" title=\"Mais compartilhamentos\" data-href=\"https://politica.estadao.com.br/eleicoes/2020/candidatos/rj/rio-de-janeiro/prefeito\" data-title=\"Candidatos a prefeito de Rio de Janeiro - RJ\">&nbsp;</a> <div class=\"share-more\" > <div class=\"share-total\" data-url=\"https://politica.estadao.com.br/eleicoes/2020/candidatos/rj/rio-de-janeiro/prefeito\"></div> <ul> <li class=\"twitter\"> <a href=\"https://twitter.com/intent/tweet?text=Candidatos a prefeito de Rio de Janeiro - RJ%20@estadao%3A%20&amp;url=https://politica.estadao.com.br/eleicoes/2020/candidatos/rj/rio-de-janeiro/prefeito%3Futm_source%3Destadao%3Atwitter%26utm_medium%3Dlink\" target=\"_blank\" class=\"ico-twitter\" > <span>twitter</span> </a> </li> <li class=\"linkedin\"> <a href=\"https://www.linkedin.com/cws/share?url=https://politica.estadao.com.br/eleicoes/2020/candidatos/rj/rio-de-janeiro/prefeito%3Futm_source%3Destadao%3Alinkedin%26utm_medium%3Dlink\" target=\"_blank\" class=\"ico-linkedin\" > <span>linkedin</span> </a> </li> <li class=\"email\"> <a href=\"mailto:?subject=Candidatos a prefeito de Rio de Janeiro - RJ&amp;body=Candidatos a prefeito de Rio de Janeiro - RJ - https://politica.estadao.com.br/eleicoes/2020/candidatos/rj/rio-de-janeiro/prefeito%3Futm_source%3Destadao%3Amail%26utm_medium%3Dlink\" class=\"ico-envelope-o\" > <span>e-mail</span> </a> </li> <li class=\"print\"> <a href=\"javascript:window.print();\" class=\"ico-printer-text\" > <span>imprimir</span> </a> </li> </ul> </div> </li></ul> </div> <div class=\"mold-candidatos\"> <div class=\"list-candidatos\"> <div class=\"row\"> <div class=\"col-xs-12 -only\"> <a href=\"https://politica.estadao.com.br/eleicoes/2020/candidatos/rj/rio-de-janeiro/prefeito/bandeira-de-mello,18\" title=\"bandeira de mello\"> <div class=\"mold-cand \"> <div class=\"cand-mask\"> <img class=\"elazy\" onerror=this.onerror=null;this.src=&#039;https://statics.estadao.com.br/s2016/portal/eleicoes2020/img/img_placeholder.png&#039;; data-src=\"https://img.estadao.com.br/fotos/politica/eleicoes-2020/RJ/FRJ190001156278_div.jpg\" alt=\"bandeira de mello\"/> </div> <div class=\"cand-desc\"> <h3 class=\"cand-name\">bandeira de mello</h3> <span class=\"cand-partido\">REDE</span> </div> </div> </a> </div> <div class=\"col-xs-12 -only\"> <a href=\"https://politica.estadao.com.br/eleicoes/2020/candidatos/rj/rio-de-janeiro/prefeito/benedita-da-silva,13\" title=\"benedita da silva\"> <div class=\"mold-cand \"> <div class=\"cand-mask\"> <img class=\"elazy\" onerror=this.onerror=null;this.src=&#039;https://statics.estadao.com.br/s2016/portal/eleicoes2020/img/img_placeholder.png&#039;; data-src=\"https://img.estadao.com.br/fotos/politica/eleicoes-2020/RJ/FRJ190000945336_div.jpg\" alt=\"benedita da silva\"/> </div> <div class=\"cand-desc\"> <h3 class=\"cand-name\">benedita da silva</h3> <span class=\"cand-partido\">PT</span> </div> </div> </a> </div> <div class=\"col-xs-12 -only\"> <a href=\"https://politica.estadao.com.br/eleicoes/2020/candidatos/rj/rio-de-janeiro/prefeito/clarissa-garotinho,90\" title=\"clarissa garotinho\"> <div class=\"mold-cand \"> <div class=\"cand-mask\"> <img class=\"elazy\" onerror=this.onerror=null;this.src=&#039;https://statics.estadao.com.br/s2016/portal/eleicoes2020/img/img_placeholder.png&#039;; data-src=\"https://img.estadao.com.br/fotos/politica/eleicoes-2020/RJ/FRJ190000688300_div.jpg\" alt=\"clarissa garotinho\"/> </div> <div class=\"cand-desc\"> <h3 class=\"cand-name\">clarissa garotinho</h3> <span class=\"cand-partido\">PROS</span> </div> </div> </a> </div> <div class=\"col-xs-12 -only\"> <a href=\"https://politica.estadao.com.br/eleicoes/2020/candidatos/rj/rio-de-janeiro/prefeito/crivella,10\" title=\"crivella\"> <div class=\"mold-cand \"> <div class=\"cand-mask\"> <img class=\"elazy\" onerror=this.onerror=null;this.src=&#039;https://statics.estadao.com.br/s2016/portal/eleicoes2020/img/img_placeholder.png&#039;; data-src=\"https://img.estadao.com.br/fotos/politica/eleicoes-2020/RJ/FRJ190000684240_div.jpg\" alt=\"crivella\"/> </div> <div class=\"cand-desc\"> <h3 class=\"cand-name\">crivella</h3> <span class=\"cand-partido\">REPUBLICANOS</span> </div> </div> </a> </div> <div class=\"col-xs-12 -only\"> <a href=\"https://politica.estadao.com.br/eleicoes/2020/candidatos/rj/rio-de-janeiro/prefeito/cyro-garcia,16\" title=\"cyro garcia\"> <div class=\"mold-cand \"> <div class=\"cand-mask\"> <img class=\"elazy\" onerror=this.onerror=null;this.src=&#039;https://statics.estadao.com.br/s2016/portal/eleicoes2020/img/img_placeholder.png&#039;; data-src=\"https://img.estadao.com.br/fotos/politica/eleicoes-2020/RJ/FRJ190000858699_div.jpg\" alt=\"cyro garcia\"/> </div> <div class=\"cand-desc\"> <h3 class=\"cand-name\">cyro garcia</h3> <span class=\"cand-partido\">PSTU</span> </div> </div> </a> </div> <div class=\"col-xs-12 -only\"> <a href=\"https://politica.estadao.com.br/eleicoes/2020/candidatos/rj/rio-de-janeiro/prefeito/delegada-martha-rocha,12\" title=\"delegada martha rocha\"> <div class=\"mold-cand \"> <div class=\"cand-mask\"> <img class=\"elazy\" onerror=this.onerror=null;this.src=&#039;https://statics.estadao.com.br/s2016/portal/eleicoes2020/img/img_placeholder.png&#039;; data-src=\"https://img.estadao.com.br/fotos/politica/eleicoes-2020/RJ/FRJ190000945200_div.jpg\" alt=\"delegada martha rocha\"/> </div> <div class=\"cand-desc\"> <h3 class=\"cand-name\">delegada martha rocha</h3> <span class=\"cand-partido\">PDT</span> </div> </div> </a> </div> <div class=\"col-xs-12 -only\"> <a href=\"https://politica.estadao.com.br/eleicoes/2020/candidatos/rj/rio-de-janeiro/prefeito/eduardo-paes,25\" title=\"eduardo paes\"> <div class=\"mold-cand -type-eleito\"> <div class=\"cand-mask\"> <img class=\"elazy\" onerror=this.onerror=null;this.src=&#039;https://statics.estadao.com.br/s2016/portal/eleicoes2020/img/img_placeholder.png&#039;; data-src=\"https://img.estadao.com.br/fotos/politica/eleicoes-2020/RJ/FRJ190000688286_div.jpg\" alt=\"eduardo paes\"/> </div> <div class=\"cand-desc\"> <h3 class=\"cand-name\">eduardo paes</h3> <span class=\"cand-partido\">DEM</span> </div> </div> </a> </div> <div class=\"col-xs-12 -only\"> <a href=\"https://politica.estadao.com.br/eleicoes/2020/candidatos/rj/rio-de-janeiro/prefeito/fred-luz,30\" title=\"fred luz\"> <div class=\"mold-cand \"> <div class=\"cand-mask\"> <img class=\"elazy\" onerror=this.onerror=null;this.src=&#039;https://statics.estadao.com.br/s2016/portal/eleicoes2020/img/img_placeholder.png&#039;; data-src=\"https://img.estadao.com.br/fotos/politica/eleicoes-2020/RJ/FRJ190000641672_div.jpg\" alt=\"fred luz\"/> </div> <div class=\"cand-desc\"> <h3 class=\"cand-name\">fred luz</h3> <span class=\"cand-partido\">NOVO</span> </div> </div> </a> </div> <div class=\"col-xs-12 -only\"> <a href=\"https://politica.estadao.com.br/eleicoes/2020/candidatos/rj/rio-de-janeiro/prefeito/gloria-heloiza,20\" title=\"gl&oacute;ria heloiza\"> <div class=\"mold-cand \"> <div class=\"cand-mask\"> <img class=\"elazy\" onerror=this.onerror=null;this.src=&#039;https://statics.estadao.com.br/s2016/portal/eleicoes2020/img/img_placeholder.png&#039;; data-src=\"https://img.estadao.com.br/fotos/politica/eleicoes-2020/RJ/FRJ190001005298_div.jpg\" alt=\"gl&oacute;ria heloiza\"/> </div> <div class=\"cand-desc\"> <h3 class=\"cand-name\">gl&oacute;ria heloiza</h3> <span class=\"cand-partido\">PSC</span> </div> </div> </a> </div> <div class=\"col-xs-12 -only\"> <a href=\"https://politica.estadao.com.br/eleicoes/2020/candidatos/rj/rio-de-janeiro/prefeito/henrique-simonard,29\" title=\"henrique simonard\"> <div class=\"mold-cand \"> <div class=\"cand-mask\"> <img class=\"elazy\" onerror=this.onerror=null;this.src=&#039;https://statics.estadao.com.br/s2016/portal/eleicoes2020/img/img_placeholder.png&#039;; data-src=\"https://img.estadao.com.br/fotos/politica/eleicoes-2020/RJ/FRJ190001091134_div.jpg\" alt=\"henrique simonard\"/> </div> <div class=\"cand-desc\"> <h3 class=\"cand-name\">henrique simonard</h3> <span class=\"cand-partido\">PCO</span> </div> </div> </a> </div> <div class=\"col-xs-12 -only\"> <a href=\"https://politica.estadao.com.br/eleicoes/2020/candidatos/rj/rio-de-janeiro/prefeito/luiz-lima,17\" title=\"luiz lima\"> <div class=\"mold-cand \"> <div class=\"cand-mask\"> <img class=\"elazy\" onerror=this.onerror=null;this.src=&#039;https://statics.estadao.com.br/s2016/portal/eleicoes2020/img/img_placeholder.png&#039;; data-src=\"https://img.estadao.com.br/fotos/politica/eleicoes-2020/RJ/FRJ190000885034_div.jpg\" alt=\"luiz lima\"/> </div> <div class=\"cand-desc\"> <h3 class=\"cand-name\">luiz lima</h3> <span class=\"cand-partido\">PSL</span> </div> </div> </a> </div> <div class=\"col-xs-12 -only\"> <a href=\"https://politica.estadao.com.br/eleicoes/2020/candidatos/rj/rio-de-janeiro/prefeito/paulo-messina,15\" title=\"paulo messina\"> <div class=\"mold-cand \"> <div class=\"cand-mask\"> <img class=\"elazy\" onerror=this.onerror=null;this.src=&#039;https://statics.estadao.com.br/s2016/portal/eleicoes2020/img/img_placeholder.png&#039;; data-src=\"https://img.estadao.com.br/fotos/politica/eleicoes-2020/RJ/FRJ190000988467_div.jpg\" alt=\"paulo messina\"/> </div> <div class=\"cand-desc\"> <h3 class=\"cand-name\">paulo messina</h3> <span class=\"cand-partido\">MDB</span> </div> </div> </a> </div> <div class=\"col-xs-12 -only\"> <a href=\"https://politica.estadao.com.br/eleicoes/2020/candidatos/rj/rio-de-janeiro/prefeito/renata-souza,50\" title=\"renata souza\"> <div class=\"mold-cand \"> <div class=\"cand-mask\"> <img class=\"elazy\" onerror=this.onerror=null;this.src=&#039;https://statics.estadao.com.br/s2016/portal/eleicoes2020/img/img_placeholder.png&#039;; data-src=\"https://img.estadao.com.br/fotos/politica/eleicoes-2020/RJ/FRJ190000684522_div.jpg\" alt=\"renata souza\"/> </div> <div class=\"cand-desc\"> <h3 class=\"cand-name\">renata souza</h3> <span class=\"cand-partido\">PSOL</span> </div> </div> </a> </div> <div class=\"col-xs-12 -only\"> <a href=\"https://politica.estadao.com.br/eleicoes/2020/candidatos/rj/rio-de-janeiro/prefeito/sued-haidar,35\" title=\"su&ecirc;d haidar\"> <div class=\"mold-cand \"> <div class=\"cand-mask\"> <img class=\"elazy\" onerror=this.onerror=null;this.src=&#039;https://statics.estadao.com.br/s2016/portal/eleicoes2020/img/img_placeholder.png&#039;; data-src=\"https://img.estadao.com.br/fotos/politica/eleicoes-2020/RJ/FRJ190000946166_div.jpg\" alt=\"su&ecirc;d haidar\"/> </div> <div class=\"cand-desc\"> <h3 class=\"cand-name\">su&ecirc;d haidar</h3> <span class=\"cand-partido\">PMB</span> </div> </div> </a> </div> </div></div> <div class=\"row-link-arrow\"> <a class=\"link-arrow cor-e uppercase\" href=\"https://politica.estadao.com.br/eleicoes/2020/candidatos/rj/rio-de-janeiro/vereador\"> <span>Veja os candidatos a vereador</span> <i class=\"ico-arrow-right\"></i> </a> </div> </div> </div></div><div class=\"col-xs-12\"> <div class=\"container-candidatos\"> <div class=\"mold-title\"> <h2 class=\"chapeu title-primary -black\" title=\"Belo Horizonte - MG\"> <a href=\"https://politica.estadao.com.br/eleicoes/2020/candidatos/mg/belo-horizonte\">Belo Horizonte - MG</a> </h2> </div> <div class=\"mold-title-share\"> <h2 class=\"chapeu cor-e title-secundary uppercase\" title=\"Candidatos a prefeito\"> <a href=\"https://politica.estadao.com.br/eleicoes/2020/candidatos/mg/belo-horizonte/prefeito\">Candidatos a prefeito</a> </h2> <ul class=\"share \"> <li class=\"hidden\"> <a href=\"javascript:void(0);\" class=\"balloon comentarios-balaozinho\" data-ancora=\\'noticia_1\\' title=\"Comentários\"> </a> </li> <li class=\"facebook \"> <a href=\"https://www.facebook.com/sharer/sharer.php?u=https://politica.estadao.com.br/eleicoes/2020/candidatos/mg/belo-horizonte/prefeito%3Futm_source%3Destadao%3Afacebook%26utm_medium%3Dlink\" target=\"_blank\" class=\"ico-facebook\" title=\"Compartilhe pelo Facebook\" >&nbsp;</a> </li> <li class=\"whatsapp \"> <a href=\"whatsapp://send?text=Candidatos+a+prefeito+de+Belo+Horizonte+-+MG%20Estad%C3%A3o%3A%20https://politica.estadao.com.br/eleicoes/2020/candidatos/mg/belo-horizonte/prefeito%3Futm_source%3Destadao%3Awhatsapp%26utm_medium%3Dlink\" class=\"ico-whatsapp\" title=\"Compartilhe pelo WhatsApp\">&nbsp;</a> </li> <li class=\"twitter \"> <a href=\"https://twitter.com/intent/tweet?text=Candidatos a prefeito de Belo Horizonte - MG%20@estadao%3A%20&amp;url=https://politica.estadao.com.br/eleicoes/2020/candidatos/mg/belo-horizonte/prefeito%3Futm_source%3Destadao%3Atwitter%26utm_medium%3Dlink\" target=\"_blank\" class=\"ico-twitter\" title=\"Compartilhe pelo Twitter\" >&nbsp;</a> </li> <li class=\"other \"> <a href=\"javascript:void(0);\" class=\"ico-dots-three-horizontal \" title=\"Mais compartilhamentos\" data-href=\"https://politica.estadao.com.br/eleicoes/2020/candidatos/mg/belo-horizonte/prefeito\" data-title=\"Candidatos a prefeito de Belo Horizonte - MG\">&nbsp;</a> <div class=\"share-more\" > <div class=\"share-total\" data-url=\"https://politica.estadao.com.br/eleicoes/2020/candidatos/mg/belo-horizonte/prefeito\"></div> <ul> <li class=\"twitter\"> <a href=\"https://twitter.com/intent/tweet?text=Candidatos a prefeito de Belo Horizonte - MG%20@estadao%3A%20&amp;url=https://politica.estadao.com.br/eleicoes/2020/candidatos/mg/belo-horizonte/prefeito%3Futm_source%3Destadao%3Atwitter%26utm_medium%3Dlink\" target=\"_blank\" class=\"ico-twitter\" > <span>twitter</span> </a> </li> <li class=\"linkedin\"> <a href=\"https://www.linkedin.com/cws/share?url=https://politica.estadao.com.br/eleicoes/2020/candidatos/mg/belo-horizonte/prefeito%3Futm_source%3Destadao%3Alinkedin%26utm_medium%3Dlink\" target=\"_blank\" class=\"ico-linkedin\" > <span>linkedin</span> </a> </li> <li class=\"email\"> <a href=\"mailto:?subject=Candidatos a prefeito de Belo Horizonte - MG&amp;body=Candidatos a prefeito de Belo Horizonte - MG - https://politica.estadao.com.br/eleicoes/2020/candidatos/mg/belo-horizonte/prefeito%3Futm_source%3Destadao%3Amail%26utm_medium%3Dlink\" class=\"ico-envelope-o\" > <span>e-mail</span> </a> </li> <li class=\"print\"> <a href=\"javascript:window.print();\" class=\"ico-printer-text\" > <span>imprimir</span> </a> </li> </ul> </div> </li></ul> </div> <div class=\"mold-candidatos\"> <div class=\"list-candidatos\"> <div class=\"row\"> <div class=\"col-xs-12 -only\"> <a href=\"https://politica.estadao.com.br/eleicoes/2020/candidatos/mg/belo-horizonte/prefeito/bruno-engler,28\" title=\"bruno engler\"> <div class=\"mold-cand \"> <div class=\"cand-mask\"> <img class=\"elazy\" onerror=this.onerror=null;this.src=&#039;https://statics.estadao.com.br/s2016/portal/eleicoes2020/img/img_placeholder.png&#039;; data-src=\"https://img.estadao.com.br/fotos/politica/eleicoes-2020/MG/FMG130001252256_div.jpg\" alt=\"bruno engler\"/> </div> <div class=\"cand-desc\"> <h3 class=\"cand-name\">bruno engler</h3> <span class=\"cand-partido\">PRTB</span> </div> </div> </a> </div> <div class=\"col-xs-12 -only\"> <a href=\"https://politica.estadao.com.br/eleicoes/2020/candidatos/mg/belo-horizonte/prefeito/bruno-engler,28\" title=\"bruno engler\"> <div class=\"mold-cand \"> <div class=\"cand-mask\"> <img class=\"elazy\" onerror=this.onerror=null;this.src=&#039;https://statics.estadao.com.br/s2016/portal/eleicoes2020/img/img_placeholder.png&#039;; data-src=\"https://img.estadao.com.br/fotos/politica/eleicoes-2020/MG/FMG130001226853_div.jpg\" alt=\"bruno engler\"/> </div> <div class=\"cand-desc\"> <h3 class=\"cand-name\">bruno engler</h3> <span class=\"cand-partido\">PRTB</span> </div> </div> </a> </div> <div class=\"col-xs-12 -only\"> <a href=\"https://politica.estadao.com.br/eleicoes/2020/candidatos/mg/belo-horizonte/prefeito/cabo-xavier,35\" title=\"cabo xavier\"> <div class=\"mold-cand \"> <div class=\"cand-mask\"> <img class=\"elazy\" onerror=this.onerror=null;this.src=&#039;https://statics.estadao.com.br/s2016/portal/eleicoes2020/img/img_placeholder.png&#039;; data-src=\"https://img.estadao.com.br/fotos/politica/eleicoes-2020/MG/FMG130001180688_div.jpg\" alt=\"cabo xavier\"/> </div> <div class=\"cand-desc\"> <h3 class=\"cand-name\">cabo xavier</h3> <span class=\"cand-partido\">PMB</span> </div> </div> </a> </div> <div class=\"col-xs-12 -only\"> <a href=\"https://politica.estadao.com.br/eleicoes/2020/candidatos/mg/belo-horizonte/prefeito/fabiano-cazeca,90\" title=\"fabiano cazeca\"> <div class=\"mold-cand \"> <div class=\"cand-mask\"> <img class=\"elazy\" onerror=this.onerror=null;this.src=&#039;https://statics.estadao.com.br/s2016/portal/eleicoes2020/img/img_placeholder.png&#039;; data-src=\"https://img.estadao.com.br/fotos/politica/eleicoes-2020/MG/FMG130000665121_div.jpg\" alt=\"fabiano cazeca\"/> </div> <div class=\"cand-desc\"> <h3 class=\"cand-name\">fabiano cazeca</h3> <span class=\"cand-partido\">PROS</span> </div> </div> </a> </div> <div class=\"col-xs-12 -only\"> <a href=\"https://politica.estadao.com.br/eleicoes/2020/candidatos/mg/belo-horizonte/prefeito/joao-vitor-xavier,23\" title=\"jo&atilde;o vitor xavier\"> <div class=\"mold-cand \"> <div class=\"cand-mask\"> <img class=\"elazy\" onerror=this.onerror=null;this.src=&#039;https://statics.estadao.com.br/s2016/portal/eleicoes2020/img/img_placeholder.png&#039;; data-src=\"https://img.estadao.com.br/fotos/politica/eleicoes-2020/MG/FMG130001140594_div.jpg\" alt=\"jo&atilde;o vitor xavier\"/> </div> <div class=\"cand-desc\"> <h3 class=\"cand-name\">jo&atilde;o vitor xavier</h3> <span class=\"cand-partido\">CIDADANIA</span> </div> </div> </a> </div> <div class=\"col-xs-12 -only\"> <a href=\"https://politica.estadao.com.br/eleicoes/2020/candidatos/mg/belo-horizonte/prefeito/kalil,55\" title=\"kalil\"> <div class=\"mold-cand -type-eleito\"> <div class=\"cand-mask\"> <img class=\"elazy\" onerror=this.onerror=null;this.src=&#039;https://statics.estadao.com.br/s2016/portal/eleicoes2020/img/img_placeholder.png&#039;; data-src=\"https://img.estadao.com.br/fotos/politica/eleicoes-2020/MG/FMG130000756879_div.jpg\" alt=\"kalil\"/> </div> <div class=\"cand-desc\"> <h3 class=\"cand-name\">kalil</h3> <span class=\"cand-partido\">PSD</span> </div> </div> </a> </div> <div class=\"col-xs-12 -only\"> <a href=\"https://politica.estadao.com.br/eleicoes/2020/candidatos/mg/belo-horizonte/prefeito/lafayette-andrada,10\" title=\"lafayette andrada\"> <div class=\"mold-cand \"> <div class=\"cand-mask\"> <img class=\"elazy\" onerror=this.onerror=null;this.src=&#039;https://statics.estadao.com.br/s2016/portal/eleicoes2020/img/img_placeholder.png&#039;; data-src=\"https://img.estadao.com.br/fotos/politica/eleicoes-2020/MG/FMG130001001426_div.jpg\" alt=\"lafayette andrada\"/> </div> <div class=\"cand-desc\"> <h3 class=\"cand-name\">lafayette andrada</h3> <span class=\"cand-partido\">REPUBLICANOS</span> </div> </div> </a> </div> <div class=\"col-xs-12 -only\"> <a href=\"https://politica.estadao.com.br/eleicoes/2020/candidatos/mg/belo-horizonte/prefeito/luisa-barreto,45\" title=\"luisa barreto\"> <div class=\"mold-cand \"> <div class=\"cand-mask\"> <img class=\"elazy\" onerror=this.onerror=null;this.src=&#039;https://statics.estadao.com.br/s2016/portal/eleicoes2020/img/img_placeholder.png&#039;; data-src=\"https://img.estadao.com.br/fotos/politica/eleicoes-2020/MG/FMG130000868277_div.jpg\" alt=\"luisa barreto\"/> </div> <div class=\"cand-desc\"> <h3 class=\"cand-name\">luisa barreto</h3> <span class=\"cand-partido\">PSDB</span> </div> </div> </a> </div> <div class=\"col-xs-12 -only\"> <a href=\"https://politica.estadao.com.br/eleicoes/2020/candidatos/mg/belo-horizonte/prefeito/marcelo-souza-e-silva,51\" title=\"marcelo souza e silva\"> <div class=\"mold-cand \"> <div class=\"cand-mask\"> <img class=\"elazy\" onerror=this.onerror=null;this.src=&#039;https://statics.estadao.com.br/s2016/portal/eleicoes2020/img/img_placeholder.png&#039;; data-src=\"https://img.estadao.com.br/fotos/politica/eleicoes-2020/MG/FMG130000658456_div.jpg\" alt=\"marcelo souza e silva\"/> </div> <div class=\"cand-desc\"> <h3 class=\"cand-name\">marcelo souza e silva</h3> <span class=\"cand-partido\">PATRIOTA</span> </div> </div> </a> </div> <div class=\"col-xs-12 -only\"> <a href=\"https://politica.estadao.com.br/eleicoes/2020/candidatos/mg/belo-horizonte/prefeito/marilia-domingues,29\" title=\"marilia domingues\"> <div class=\"mold-cand \"> <div class=\"cand-mask\"> <img class=\"elazy\" onerror=this.onerror=null;this.src=&#039;https://statics.estadao.com.br/s2016/portal/eleicoes2020/img/img_placeholder.png&#039;; data-src=\"https://img.estadao.com.br/fotos/politica/eleicoes-2020/MG/FMG130001181053_div.jpg\" alt=\"marilia domingues\"/> </div> <div class=\"cand-desc\"> <h3 class=\"cand-name\">marilia domingues</h3> <span class=\"cand-partido\">PCO</span> </div> </div> </a> </div> <div class=\"col-xs-12 -only\"> <a href=\"https://politica.estadao.com.br/eleicoes/2020/candidatos/mg/belo-horizonte/prefeito/nilmario-miranda,13\" title=\"nilm&aacute;rio miranda\"> <div class=\"mold-cand \"> <div class=\"cand-mask\"> <img class=\"elazy\" onerror=this.onerror=null;this.src=&#039;https://statics.estadao.com.br/s2016/portal/eleicoes2020/img/img_placeholder.png&#039;; data-src=\"https://img.estadao.com.br/fotos/politica/eleicoes-2020/MG/FMG130000704118_div.jpg\" alt=\"nilm&aacute;rio miranda\"/> </div> <div class=\"cand-desc\"> <h3 class=\"cand-name\">nilm&aacute;rio miranda</h3> <span class=\"cand-partido\">PT</span> </div> </div> </a> </div> <div class=\"col-xs-12 -only\"> <a href=\"https://politica.estadao.com.br/eleicoes/2020/candidatos/mg/belo-horizonte/prefeito/professor-wendel-mesquita,77\" title=\"professor wendel mesquita\"> <div class=\"mold-cand \"> <div class=\"cand-mask\"> <img class=\"elazy\" onerror=this.onerror=null;this.src=&#039;https://statics.estadao.com.br/s2016/portal/eleicoes2020/img/img_placeholder.png&#039;; data-src=\"https://img.estadao.com.br/fotos/politica/eleicoes-2020/MG/FMG130000944000_div.jpg\" alt=\"professor wendel mesquita\"/> </div> <div class=\"cand-desc\"> <h3 class=\"cand-name\">professor wendel mesquita</h3> <span class=\"cand-partido\">SOLIDARIEDADE</span> </div> </div> </a> </div> <div class=\"col-xs-12 -only\"> <a href=\"https://politica.estadao.com.br/eleicoes/2020/candidatos/mg/belo-horizonte/prefeito/rodrigo-paiva,30\" title=\"rodrigo paiva\"> <div class=\"mold-cand \"> <div class=\"cand-mask\"> <img class=\"elazy\" onerror=this.onerror=null;this.src=&#039;https://statics.estadao.com.br/s2016/portal/eleicoes2020/img/img_placeholder.png&#039;; data-src=\"https://img.estadao.com.br/fotos/politica/eleicoes-2020/MG/FMG130000639684_div.jpg\" alt=\"rodrigo paiva\"/> </div> <div class=\"cand-desc\"> <h3 class=\"cand-name\">rodrigo paiva</h3> <span class=\"cand-partido\">NOVO</span> </div> </div> </a> </div> <div class=\"col-xs-12 -only\"> <a href=\"https://politica.estadao.com.br/eleicoes/2020/candidatos/mg/belo-horizonte/prefeito/wadson-ribeiro,65\" title=\"wadson ribeiro\"> <div class=\"mold-cand \"> <div class=\"cand-mask\"> <img class=\"elazy\" onerror=this.onerror=null;this.src=&#039;https://statics.estadao.com.br/s2016/portal/eleicoes2020/img/img_placeholder.png&#039;; data-src=\"https://img.estadao.com.br/fotos/politica/eleicoes-2020/MG/FMG130000861189_div.jpg\" alt=\"wadson ribeiro\"/> </div> <div class=\"cand-desc\"> <h3 class=\"cand-name\">wadson ribeiro</h3> <span class=\"cand-partido\">PC do B</span> </div> </div> </a> </div> <div class=\"col-xs-12 -only\"> <a href=\"https://politica.estadao.com.br/eleicoes/2020/candidatos/mg/belo-horizonte/prefeito/wanderson-rocha,16\" title=\"wanderson rocha\"> <div class=\"mold-cand \"> <div class=\"cand-mask\"> <img class=\"elazy\" onerror=this.onerror=null;this.src=&#039;https://statics.estadao.com.br/s2016/portal/eleicoes2020/img/img_placeholder.png&#039;; data-src=\"https://img.estadao.com.br/fotos/politica/eleicoes-2020/MG/FMG130001172845_div.jpg\" alt=\"wanderson rocha\"/> </div> <div class=\"cand-desc\"> <h3 class=\"cand-name\">wanderson rocha</h3> <span class=\"cand-partido\">PSTU</span> </div> </div> </a> </div> <div class=\"col-xs-12 -only\"> <a href=\"https://politica.estadao.com.br/eleicoes/2020/candidatos/mg/belo-horizonte/prefeito/aurea-carolina,50\" title=\"&aacute;urea carolina\"> <div class=\"mold-cand \"> <div class=\"cand-mask\"> <img class=\"elazy\" onerror=this.onerror=null;this.src=&#039;https://statics.estadao.com.br/s2016/portal/eleicoes2020/img/img_placeholder.png&#039;; data-src=\"https://img.estadao.com.br/fotos/politica/eleicoes-2020/MG/FMG130000662154_div.jpg\" alt=\"&aacute;urea carolina\"/> </div> <div class=\"cand-desc\"> <h3 class=\"cand-name\">&aacute;urea carolina</h3> <span class=\"cand-partido\">PSOL</span> </div> </div> </a> </div> </div></div> <div class=\"row-link-arrow\"> <a class=\"link-arrow cor-e uppercase\" href=\"https://politica.estadao.com.br/eleicoes/2020/candidatos/mg/belo-horizonte/vereador\"> <span>Veja os candidatos a vereador</span> <i class=\"ico-arrow-right\"></i> </a> </div> </div> </div></div> </div> </section> <section class=\"col-md-4 col-sm-12 col-xs-12 content\"> <div class=\"row\"> <div style=\\'display:block;margin: 20px auto;\\'><div id=\\'tmeio1-1\\' class=\\'publicidade dfp\\' data-screenmap=\\'Tile_300_250_T_250\\' data-target=\\'{\"formato\":\"tmeio1\",\"page_url\":\"politica.estadao.com.br,eleicoes,2020,candidatos\",\"pg_tipo\":\"eleicoes\",\"tags\":false}\\' data-status=\\'init\\' ></div></div><section class=\"col-xs-12 maislidas-interno\"> <a href=\"http://www.estadao.com.br/mais-lidas\"> <p class=\"now cor-e\" title=\"Mais lidas\"> Mais lidas </p> </a> <div class=\"box \"> <div class=\"label\"> <a href=\"https://politica.estadao.com.br/blogs/estadao-verifica/carmen-lucia-concede-liminar-para-manter-no-ar-checagem-que-senador-pede-para-ser-excluida/\" title=\"Política\"> <h4 class=\"cor-e\"> Política </h4> </a> <ul class=\"share \"> <li class=\"hidden\"> <a href=\"javascript:void(0);\" class=\"balloon comentarios-balaozinho\" data-ancora=\\'noticia_1\\' title=\"Comentários\"> </a> </li> <li class=\"facebook \"> <a href=\"https://www.facebook.com/sharer/sharer.php?u=https://politica.estadao.com.br/blogs/estadao-verifica/carmen-lucia-concede-liminar-para-manter-no-ar-checagem-que-senador-pede-para-ser-excluida/%3Futm_source%3Destadao%3Afacebook%26utm_medium%3Dlink\" target=\"_blank\" class=\"ico-facebook\" title=\"Compartilhe pelo Facebook\" >&nbsp;</a> </li> <li class=\"whatsapp \"> <a href=\"whatsapp://send?text=C%C3%A1rmen+L%C3%BAcia+concede+liminar+para+manter+no+ar+checagem+que+senador+pede+para+ser+exclu%C3%ADda%20Estad%C3%A3o%3A%20https://politica.estadao.com.br/blogs/estadao-verifica/carmen-lucia-concede-liminar-para-manter-no-ar-checagem-que-senador-pede-para-ser-excluida/%3Futm_source%3Destadao%3Awhatsapp%26utm_medium%3Dlink\" class=\"ico-whatsapp\" title=\"Compartilhe pelo WhatsApp\">&nbsp;</a> </li> <li class=\"twitter \"> <a href=\"https://twitter.com/intent/tweet?text=Cármen Lúcia concede liminar para manter no ar checagem que senador pede para ser excluída%20@estadao%3A%20&amp;url=https://politica.estadao.com.br/blogs/estadao-verifica/carmen-lucia-concede-liminar-para-manter-no-ar-checagem-que-senador-pede-para-ser-excluida/%3Futm_source%3Destadao%3Atwitter%26utm_medium%3Dlink\" target=\"_blank\" class=\"ico-twitter\" title=\"Compartilhe pelo Twitter\" >&nbsp;</a> </li> <li class=\"other \"> <a href=\"javascript:void(0);\" class=\"ico-dots-three-horizontal \" title=\"Mais compartilhamentos\" data-href=\"https://politica.estadao.com.br/blogs/estadao-verifica/carmen-lucia-concede-liminar-para-manter-no-ar-checagem-que-senador-pede-para-ser-excluida/\" data-title=\"Cármen Lúcia concede liminar para manter no ar checagem que senador pede para ser excluída\">&nbsp;</a> <div class=\"share-more\" > <div class=\"share-total\" data-url=\"https://politica.estadao.com.br/blogs/estadao-verifica/carmen-lucia-concede-liminar-para-manter-no-ar-checagem-que-senador-pede-para-ser-excluida/\"></div> <ul> <li class=\"twitter\"> <a href=\"https://twitter.com/intent/tweet?text=Cármen Lúcia concede liminar para manter no ar checagem que senador pede para ser excluída%20@estadao%3A%20&amp;url=https://politica.estadao.com.br/blogs/estadao-verifica/carmen-lucia-concede-liminar-para-manter-no-ar-checagem-que-senador-pede-para-ser-excluida/%3Futm_source%3Destadao%3Atwitter%26utm_medium%3Dlink\" target=\"_blank\" class=\"ico-twitter\" > <span>twitter</span> </a> </li> <li class=\"linkedin\"> <a href=\"https://www.linkedin.com/cws/share?url=https://politica.estadao.com.br/blogs/estadao-verifica/carmen-lucia-concede-liminar-para-manter-no-ar-checagem-que-senador-pede-para-ser-excluida/%3Futm_source%3Destadao%3Alinkedin%26utm_medium%3Dlink\" target=\"_blank\" class=\"ico-linkedin\" > <span>linkedin</span> </a> </li> <li class=\"email\"> <a href=\"mailto:?subject=Cármen Lúcia concede liminar para manter no ar checagem que senador pede para ser excluída&amp;body=Cármen Lúcia concede liminar para manter no ar checagem que senador pede para ser excluída - https://politica.estadao.com.br/blogs/estadao-verifica/carmen-lucia-concede-liminar-para-manter-no-ar-checagem-que-senador-pede-para-ser-excluida/%3Futm_source%3Destadao%3Amail%26utm_medium%3Dlink\" class=\"ico-envelope-o\" > <span>e-mail</span> </a> </li> <li class=\"print\"> <a href=\"javascript:window.print();\" class=\"ico-printer-text\" > <span>imprimir</span> </a> </li> </ul> </div> </li></ul> </div> <figure> <a href=\"https://politica.estadao.com.br/blogs/estadao-verifica/carmen-lucia-concede-liminar-para-manter-no-ar-checagem-que-senador-pede-para-ser-excluida/\" title=\"Cármen Lúcia concede liminar para manter no ar checagem que senador pede para ser excluída}\"> <img class=\"elazy\" alt=\"C&aacute;rmen L&uacute;cia concede liminar para manter no ar checagem que senador pede para ser exclu&iacute;da\" data-src-desktop=\"https://politica.estadao.com.br/blogs/crop/360x200/estadao-verifica/wp-content/uploads/sites/690/2021/03/carmen_310320211300.jpg\" /> </a> </figure> <a href=\"https://politica.estadao.com.br/blogs/estadao-verifica/carmen-lucia-concede-liminar-para-manter-no-ar-checagem-que-senador-pede-para-ser-excluida/\" title=\"Cármen Lúcia concede liminar para manter no ar checagem que senador pede para ser excluída\"> <h3 class=\"fifth\" title=\"Cármen Lúcia concede liminar para manter no ar checagem que senador pede para ser excluída\"> Cármen Lúcia concede liminar para manter no ar checagem que senador pede para ser excluída </h3> <p title=\"Decisão vale até que a 2ª instância da Justiça do Espírito Santo julgue mérito de ação movida pelo por Marcos do Val (Podemos-ES)\"> Decisão vale até que a 2ª instância da Justiça do Espírito Santo julgue mérito de ação movida pelo por Marcos do Val (Podemos-ES) </p> </a> </div> <hr class=\"line-divider bottom\" /></section> </div> </section> </div></section><section class=\"col-md-12 col-sm-12 col-xs-12 center-xs x140\"> <div id=\\'oop-shop-3\\' class=\\'publicidade dfp\\' data-screenmap=\\'out_of_page\\' data-target=\\'{\"formato\":\"oop-shop\",\"page_url\":\"politica.estadao.com.br,eleicoes,2020,candidatos\",\"pg_tipo\":\"eleicoes\",\"tags\":false}\\' data-status=\\'init\\' ></div></section><link rel=\"preload\" href=\"https://statics.estadao.com.br/s2016/portal/eleicoes2020/js/eleicoes2020.min.js?v=27-11-2020\" as=\"script\"><script type=\"text/javascript\" src=\"https://statics.estadao.com.br/s2016/portal/eleicoes2020/js/eleicoes2020.min.js?v=27-11-2020\"></script> <script type=\"text/javascript\"> var oReload = new Reload(true, 300); </script> <script src=\"//www.estadao.com.br/estadao/js/modules/navegg.js\" async></script><script async src=\"https://cdn.insurads.com/bootstrap/64SAA3GT.js\"></script><section class=\"col-md-12 col-sm-12 col-xs-12 center-xs x140\"> <div class=\"box\"> </div></section><footer> <section class=\"footer-container expedient\"> <div class=\"row\"> <section class=\"col-md-12 col-sm-12 col-xs-12\"> <div class=\"row\"> <section class=\"col-md-3 col-sm-3 col-xs-12 menu-list menu-institucional\"> <div class=\"box\"> <p>Institucional</p> <ul> <li> <a href=\"http://www.estadao.com.br/ext/codigoetica/codigo_de_etica_miolo.pdf\" title=\"Código de ética\">Código de ética</a> </li> <li> <a href=\"http://www.estadao.com.br/ext/codigoetica/politica_anti_corrupcao.pdf\" title=\"Politica anticorrupção\">Politica anticorrupção</a> </li> <li> <a href=\"http://www.estadao.com.br/tudo-sobre/focas\" title=\"Curso de jornalismo\">Curso de jornalismo</a> </li> <li> <a href=\"http://www.estadao.com.br/relatorio-da-administracao/\" title=\"Demonstrações Contábeis\">Demonstrações Contábeis</a> </li> <li> <a href=\"http://www.estadao.com.br/termo-de-uso/\" title=\"Termo de uso\">Termo de uso</a> </li> </ul> </div> </section> <section class=\"col-md-3 col-sm-3 col-xs-12 menu-list menu-atendimento\"> <div class=\"box\"> <p>Atendimento</p> <ul> <li> <a href=\"http://www.estadao.com.br/correcoes\" title=\"Correções\">Correções</a> </li> <li> <a href=\"http://www.assinante.estadao.com.br/\" target=\"_blank\" rel=\"noopener noreferrer\" title=\"Portal do assinante\">Portal do assinante</a> </li> <li> <a href=\"http://www.estadao.com.br/fale-conosco/\" title=\"Fale conosco\">Fale conosco</a> </li> <li> <a href=\"http://site.vagas.com.br/estadao\" target=\"_blank\" rel=\"noopener noreferrer\" title=\"Trabalhe conosco\">Trabalhe conosco</a> </li> </ul> </div> </section> <section class=\"col-md-3 col-sm-3 col-xs-12 menu-list menu-conexão estadão\"> <div class=\"box\"> <p>Conexão Estadão</p> <ul> <li> <a href=\"http://broadcast.com.br\" target=\"_blank\" rel=\"noopener noreferrer\" title=\"Broadcast\">Broadcast</a> </li> <li> <a href=\"http://www.broadcastpolitico.com.br/\" target=\"_blank\" rel=\"noopener noreferrer\" title=\"Broadcast político\">Broadcast político</a> </li> <li> <a href=\"http://www.estadao.com.br/aplicativos/\" title=\"Aplicativos\">Aplicativos</a> </li> </ul> </div> </section> <section class=\"col-md-3 col-sm-3 col-xs-6 edicao-digital\"> <div class=\"box\"> <p>Hoje</p> <figure> <a href=\"https://acesso.estadao.com.br/login/estadao-jornal-digital\" class=\"digital\"> <img class=\"elazy\" src=\"\" data-src-desktop=\"https://img.estadao.com.br/fotos/crop/162x269/fotos3/162x269/Capa_Estadao__Facebook_02_04_2021.jpg\"> </a> </figure> </div> </section> </div> </section> </div> </section> <nav class=\"another-links center-xs\"> <ul> <li> <a href=\"http://acervo.estadao.com.br/\" title=\"Acervo\">Acervo</a> </li> <li> <a href=\"http://pme.estadao.com.br/\" title=\"PME\">PME</a> </li> <li> <a href=\"http://www.estadao.com.br/jornal-do-carro/\" title=\"Jornal do Carro\">Jornal do Carro</a> </li> <li> <a href=\"http://paladar.estadao.com.br/\" title=\"Paladar\">Paladar</a> </li> <li> <a href=\"http://link.estadao.com.br/\" title=\"Link\">Link</a> </li> <li> <a href=\"http://www.ilocal.com.br/\" title=\"iLocal\">iLocal</a> </li> <li> <a href=\"http://broadcast.com.br\" target=\"_blank\" title=\"Agência Estado\">Agência Estado</a> </li> <li> <a href=\"http://www.territorioeldorado.limao.com.br/\" title=\"Rádio Eldorado\">Rádio Eldorado</a> </li> <li> <a href=\"http://radio.estadao.com.br/\" title=\"Rádio Estadão\">Rádio Estadão</a> </li> <li> <a href=\"http://planetadigital.estadao.com.br/\" target=\"_blank\" title=\"Planeta Digital\">Planeta Digital</a> </li> <li> <a href=\"https://www.movingimoveis.com.br/\" target=\"_blank\" title=\"Moving Imóveis\">Moving Imóveis</a> </li> </ul> </nav> <section class=\"footer-container copyright\"> <div class=\"row\"> <section class=\"col-md-12 col-sm-12 col-xs-12\"> <div class=\"box\"> <a href=\"http://www.estadao.com.br/\" class=\"logo\" ></a> <p>Copyright © 1995 - 2021 Grupo Estado</p> <ul> <li class=\"ico-facebook-square\"> <a href=\"https://www.facebook.com/estadao\" target=\"_blank\" title=\"Estadão no Facebook\" > <span>Facebook</span> </a> </li> <li class=\"ico-twitter-square\"> <a href=\"https://twitter.com/estadao/\" target=\"_blank\" title=\"Estadão no Twitter\" > <span>Twitter</span> </a> </li> <li class=\"ico-instagram-square\"> <a href=\"https://www.instagram.com/estadao/\" target=\"_blank\" title=\"Estadão no Instagram\"> <span>Instagram</span> </a> </li> <li class=\"ico-pinterest-square\"> <a href=\"https://br.pinterest.com/estadao/\" target=\"_blank\" title=\"Estadão no Pinterest\" > <span>Pinterest</span> </a> </li> </ul> </div> </section> </div> </section></footer> <div class=\"ie-overlay\"><div class=\"ie-alert\"><p>O Estadão deixou de dar suporte ao Internet Explorer 9 ou anterior. <a href=\"https://www.whatsmybrowser.org/\" target=\"_blank\" rel=\"noopener noreferrer\">Clique aqui</a> e saiba mais.</p></div></div> </body></html>'"
            ]
          },
          "metadata": {
            "tags": []
          },
          "execution_count": 4
        }
      ]
    },
    {
      "cell_type": "code",
      "metadata": {
        "id": "YCPgEE_Ene5D"
      },
      "source": [
        "soup=bs(r.text,'html.parser')"
      ],
      "execution_count": 5,
      "outputs": []
    },
    {
      "cell_type": "code",
      "metadata": {
        "colab": {
          "base_uri": "https://localhost:8080/"
        },
        "id": "NBirdzpzoPMN",
        "outputId": "1561ce71-d3cd-4e4b-8233-d0e3f22b17ea"
      },
      "source": [
        "type(soup)"
      ],
      "execution_count": 6,
      "outputs": [
        {
          "output_type": "execute_result",
          "data": {
            "text/plain": [
              "bs4.BeautifulSoup"
            ]
          },
          "metadata": {
            "tags": []
          },
          "execution_count": 6
        }
      ]
    },
    {
      "cell_type": "code",
      "metadata": {
        "id": "8QZJsT2AqpJr"
      },
      "source": [
        "#Examina todos os descendentes de uma Tag e recupera todos os descendentes correspondentes\n",
        "candidatos=soup.find_all(\"div\",attrs={\"class\":\"col-xs-12 -only\"})"
      ],
      "execution_count": 11,
      "outputs": []
    },
    {
      "cell_type": "code",
      "metadata": {
        "colab": {
          "base_uri": "https://localhost:8080/"
        },
        "id": "lu5k2bDsrhjf",
        "outputId": "34604682-7461-428d-e781-a19a22de5b83"
      },
      "source": [
        "#listando itens que estão na lista de 3 candidatos quaisquer\n",
        "candidatos[:3]"
      ],
      "execution_count": 15,
      "outputs": [
        {
          "output_type": "execute_result",
          "data": {
            "text/plain": [
              "[<div class=\"col-xs-12 -only\"> <a href=\"https://politica.estadao.com.br/eleicoes/2020/candidatos/sp/sao-paulo/prefeito/andrea-matarazzo,55\" title=\"andrea matarazzo\"> <div class=\"mold-cand \"> <div class=\"cand-mask\"> <img alt=\"andrea matarazzo\" class=\"elazy\" data-src=\"https://img.estadao.com.br/fotos/politica/eleicoes-2020/SP/FSP250000661535_div.jpg\" onerror=\"this.onerror=null;this.src='https://statics.estadao.com.br/s2016/portal/eleicoes2020/img/img_placeholder.png';\"/> </div> <div class=\"cand-desc\"> <h3 class=\"cand-name\">andrea matarazzo</h3> <span class=\"cand-partido\">PSD</span> </div> </div> </a> </div>,\n",
              " <div class=\"col-xs-12 -only\"> <a href=\"https://politica.estadao.com.br/eleicoes/2020/candidatos/sp/sao-paulo/prefeito/antonio-carlos,29\" title=\"antônio carlos\"> <div class=\"mold-cand \"> <div class=\"cand-mask\"> <img alt=\"antônio carlos\" class=\"elazy\" data-src=\"https://img.estadao.com.br/fotos/politica/eleicoes-2020/SP/FSP250001172314_div.jpg\" onerror=\"this.onerror=null;this.src='https://statics.estadao.com.br/s2016/portal/eleicoes2020/img/img_placeholder.png';\"/> </div> <div class=\"cand-desc\"> <h3 class=\"cand-name\">antônio carlos</h3> <span class=\"cand-partido\">PCO</span> </div> </div> </a> </div>,\n",
              " <div class=\"col-xs-12 -only\"> <a href=\"https://politica.estadao.com.br/eleicoes/2020/candidatos/sp/sao-paulo/prefeito/arthur-do-val-mamae-falei,51\" title=\"arthur do val mamãe falei\"> <div class=\"mold-cand \"> <div class=\"cand-mask\"> <img alt=\"arthur do val mamãe falei\" class=\"elazy\" data-src=\"https://img.estadao.com.br/fotos/politica/eleicoes-2020/SP/FSP250000641390_div.jpg\" onerror=\"this.onerror=null;this.src='https://statics.estadao.com.br/s2016/portal/eleicoes2020/img/img_placeholder.png';\"/> </div> <div class=\"cand-desc\"> <h3 class=\"cand-name\">arthur do val mamãe falei</h3> <span class=\"cand-partido\">PATRIOTA</span> </div> </div> </a> </div>]"
            ]
          },
          "metadata": {
            "tags": []
          },
          "execution_count": 15
        }
      ]
    },
    {
      "cell_type": "markdown",
      "metadata": {
        "id": "P8P_SOggsebs"
      },
      "source": [
        "pela rotina acima fica possivel verificar que o dado referente ao nome do candidato por exemplo pode ser localizado pela tag img e no titulo."
      ]
    },
    {
      "cell_type": "code",
      "metadata": {
        "id": "JBIg9J6hoRfS"
      },
      "source": [
        "#Extração de um nome (do 1o Candidato usando a tag identificada na inspeção como referente ao nome dos candidatos na pagina)\n",
        "\n",
        "#para o 1o. candidato da lista\n",
        "nome_candidato_1=candidatos[1].img['alt'] #usando a tag \"img\"\n",
        "\n",
        "nome_candidato_1_2=candidatos[1].a['title'] #usando a tag'a'\n",
        "\n",
        "#para o 8 candidato da lista\n",
        "nome_candidato_8=candidatos[8].img['alt'] #usando a tag \"img\"\n",
        "\n",
        "nome_candidato_8_2=candidatos[8].a['title'] #usando a tag'a'"
      ],
      "execution_count": 26,
      "outputs": []
    },
    {
      "cell_type": "code",
      "metadata": {
        "colab": {
          "base_uri": "https://localhost:8080/"
        },
        "id": "_JFilJAustFs",
        "outputId": "e06ebf26-0431-4ddc-bf63-d83dc1e864cc"
      },
      "source": [
        "print('Resultado da extração do 1o. candidato utilizando a tag \"img\" ->', nome_candidato_1)\n",
        "print('Resultado da extração do 1o. candidato utilizando a tag \"img\" ->', nome_candidato_1_2)\n",
        "print('Resultado da extração do 8o. candidato utilizando a tag \"img\" ->', nome_candidato_8)\n",
        "print('Resultado da extração do 8o. candidato utilizando a tag \"img\" ->', nome_candidato_8_2)\n"
      ],
      "execution_count": 27,
      "outputs": [
        {
          "output_type": "stream",
          "text": [
            "Resultado da extração do 1o. candidato utilizando a tag \"img\" -> antônio carlos\n",
            "Resultado da extração do 1o. candidato utilizando a tag \"img\" -> antônio carlos\n",
            "Resultado da extração do 8o. candidato utilizando a tag \"img\" -> levy fidelix\n",
            "Resultado da extração do 8o. candidato utilizando a tag \"img\" -> levy fidelix\n"
          ],
          "name": "stdout"
        }
      ]
    },
    {
      "cell_type": "markdown",
      "metadata": {
        "id": "tpOTmaQLt341"
      },
      "source": [
        "Inspecionando o link verifica-se que o partido do candidato esta vinculado a tag span"
      ]
    },
    {
      "cell_type": "code",
      "metadata": {
        "colab": {
          "base_uri": "https://localhost:8080/"
        },
        "id": "FA8aYW-KuWIX",
        "outputId": "2ead5456-d696-48f5-8366-797472642b78"
      },
      "source": [
        "partidos=candidatos[1].span.text #identificando o partido do candidato2\n",
        "print(partidos)"
      ],
      "execution_count": 32,
      "outputs": [
        {
          "output_type": "stream",
          "text": [
            "PCO\n"
          ],
          "name": "stdout"
        }
      ]
    },
    {
      "cell_type": "code",
      "metadata": {
        "colab": {
          "base_uri": "https://localhost:8080/"
        },
        "id": "DoNc_G2Eu4pS",
        "outputId": "75070cf7-376c-4cc7-f702-c37debc1806e"
      },
      "source": [
        "#verificando a situação do link pela biblioteca re\n",
        "print(candidatos[1].a['href'])"
      ],
      "execution_count": 31,
      "outputs": [
        {
          "output_type": "stream",
          "text": [
            "https://politica.estadao.com.br/eleicoes/2020/candidatos/sp/sao-paulo/prefeito/antonio-carlos,29\n"
          ],
          "name": "stdout"
        }
      ]
    },
    {
      "cell_type": "markdown",
      "metadata": {
        "id": "GZx2TmbNvyOO"
      },
      "source": [
        "verifica-se que varias infomações estão contidas no link, desta forma, pode-se obtelas, utilizando o comando split usando como separador o caracter que demarca a passagem de um dado importante para outro"
      ]
    },
    {
      "cell_type": "code",
      "metadata": {
        "colab": {
          "base_uri": "https://localhost:8080/"
        },
        "id": "saW7h323vx-p",
        "outputId": "72bed4d6-a74f-4289-9135-918931082b18"
      },
      "source": [
        "print(re.split('/',candidatos[1].a['href']))"
      ],
      "execution_count": 33,
      "outputs": [
        {
          "output_type": "stream",
          "text": [
            "['https:', '', 'politica.estadao.com.br', 'eleicoes', '2020', 'candidatos', 'sp', 'sao-paulo', 'prefeito', 'antonio-carlos,29']\n"
          ],
          "name": "stdout"
        }
      ]
    },
    {
      "cell_type": "markdown",
      "metadata": {
        "id": "REl3QOjTw5kO"
      },
      "source": [
        "Perceba que cada informação possui uma \"posição\" apos a aplicação do split"
      ]
    },
    {
      "cell_type": "code",
      "metadata": {
        "colab": {
          "base_uri": "https://localhost:8080/"
        },
        "id": "PKGml8fgwg5n",
        "outputId": "c1ed7302-31f4-4e47-fe38-800bbf615eb8"
      },
      "source": [
        "#extraindo as informações importantes\n",
        "#o dado referente ao estado se encontra na 6a posição\n",
        "print('Estado do candidato -->',re.split('/',candidatos[1].a['href'])[6])\n",
        "\n",
        "#o dado referente ao para nome/numero do candidato se encontra na posição 9\n",
        "print('Estado do candidato -->',re.split('/',candidatos[1].a['href'])[9])"
      ],
      "execution_count": 36,
      "outputs": [
        {
          "output_type": "stream",
          "text": [
            "Estado do candidato --> sp\n",
            "Estado do candidato --> antonio-carlos,29\n"
          ],
          "name": "stdout"
        }
      ]
    },
    {
      "cell_type": "markdown",
      "metadata": {
        "id": "J8wfd5byxlEr"
      },
      "source": [
        "Agora ja se pode atribuir estas informações à uma variavel de texto"
      ]
    },
    {
      "cell_type": "code",
      "metadata": {
        "id": "1Ut1Dk8fxsOU"
      },
      "source": [
        "link= candidatos[1].a['href']\n",
        "estado= re.split('/',candidatos[1].a['href'])[6]\n",
        "cidade= re.split('/',candidatos[1].a['href'])[7]\n",
        "cargo= re.split('/',candidatos[1].a['href'])[8]"
      ],
      "execution_count": 89,
      "outputs": []
    },
    {
      "cell_type": "code",
      "metadata": {
        "colab": {
          "base_uri": "https://localhost:8080/"
        },
        "id": "WnbgHDLqx-sf",
        "outputId": "a53af6b5-3b40-4b61-ebd0-2b8c06e5350b"
      },
      "source": [
        "print(estado)\n",
        "print(cidade)\n",
        "print(cargo)\n",
        "print(link)"
      ],
      "execution_count": 90,
      "outputs": [
        {
          "output_type": "stream",
          "text": [
            "sp\n",
            "sao-paulo\n",
            "prefeito\n",
            "https://politica.estadao.com.br/eleicoes/2020/candidatos/sp/sao-paulo/prefeito/antonio-carlos,29\n"
          ],
          "name": "stdout"
        }
      ]
    },
    {
      "cell_type": "markdown",
      "metadata": {
        "id": "p7sOYJo8wgKp"
      },
      "source": [
        ""
      ]
    },
    {
      "cell_type": "markdown",
      "metadata": {
        "id": "XxGL6IXN0oCR"
      },
      "source": [
        "Uma vez que foi possivel identificar todas as informações consideradas importantes vamos desenvolver um loop que seja capaz de coletar cada uma destas informações e armazena-las de forma organiada em uma lista"
      ]
    },
    {
      "cell_type": "code",
      "metadata": {
        "id": "s38MdAQZ4IVY"
      },
      "source": [
        "candidatos=soup.find_all(\"div\",attrs={\"class\":\"col-xs-12 -only\"})"
      ],
      "execution_count": 54,
      "outputs": []
    },
    {
      "cell_type": "code",
      "metadata": {
        "id": "HYtMWzT00mnt"
      },
      "source": [
        "lista_candidatos=[]\n",
        "# script para buscar o nome de cada candidato\n",
        "for candidato in candidatos:\n",
        "  dados_candidato=[]\n",
        "\n",
        "  nome=candidato.img[\"alt\"] #extrai nome\n",
        "  dados_candidato.append(nome) #adiciona nome do candidato i a lista provisória\n",
        "\n",
        "  estado=re.split('/',candidato.a['href'])[6] #extrai estado do candidato i\n",
        "  dados_candidato.append(estado) #adiciona estado do candidato i a lista provisória\n",
        "\n",
        "  cidade=re.split('/',candidato.a['href'])[7] #extrai cidade do candidato i  \n",
        "  dados_candidato.append(cidade) #adiciona cidade do candidato do candidato i a lista provisória\n",
        "  \n",
        "  cargo=re.split('/',candidato.a['href'])[8] #extrai cargo do candidato i\n",
        "  dados_candidato.append(cargo) #adicona cargo do candidato i a lista provisória\n",
        "  \n",
        "  link=candidato.a[\"href\"]#extrai link do candidato i\n",
        "  dados_candidato.append(link) #adiciona link link do candidato a lista provisória\n",
        "  \n",
        "  partido=candidato.span.text#extrai partido do candidato i\n",
        "  dados_candidato.append(partido) #adiciona partido do candidato i a lista provisoria\n",
        "   \n",
        "  lista_candidatos.append(dados_candidato) #atribui os dados de cada candidato do loop na lista final"
      ],
      "execution_count": 91,
      "outputs": []
    },
    {
      "cell_type": "code",
      "metadata": {
        "colab": {
          "base_uri": "https://localhost:8080/"
        },
        "id": "OnLy8cno31fv",
        "outputId": "e02b2231-c67c-405b-b4d7-9a2407e3f3a1"
      },
      "source": [
        "lista_candidatos"
      ],
      "execution_count": 92,
      "outputs": [
        {
          "output_type": "execute_result",
          "data": {
            "text/plain": [
              "[['andrea matarazzo',\n",
              "  'sp',\n",
              "  'sao-paulo',\n",
              "  'prefeito',\n",
              "  'https://politica.estadao.com.br/eleicoes/2020/candidatos/sp/sao-paulo/prefeito/andrea-matarazzo,55',\n",
              "  'PSD'],\n",
              " ['antônio carlos',\n",
              "  'sp',\n",
              "  'sao-paulo',\n",
              "  'prefeito',\n",
              "  'https://politica.estadao.com.br/eleicoes/2020/candidatos/sp/sao-paulo/prefeito/antonio-carlos,29',\n",
              "  'PCO'],\n",
              " ['arthur do val mamãe falei',\n",
              "  'sp',\n",
              "  'sao-paulo',\n",
              "  'prefeito',\n",
              "  'https://politica.estadao.com.br/eleicoes/2020/candidatos/sp/sao-paulo/prefeito/arthur-do-val-mamae-falei,51',\n",
              "  'PATRIOTA'],\n",
              " ['bruno covas',\n",
              "  'sp',\n",
              "  'sao-paulo',\n",
              "  'prefeito',\n",
              "  'https://politica.estadao.com.br/eleicoes/2020/candidatos/sp/sao-paulo/prefeito/bruno-covas,45',\n",
              "  'PSDB'],\n",
              " ['celso russomanno',\n",
              "  'sp',\n",
              "  'sao-paulo',\n",
              "  'prefeito',\n",
              "  'https://politica.estadao.com.br/eleicoes/2020/candidatos/sp/sao-paulo/prefeito/celso-russomanno,10',\n",
              "  'REPUBLICANOS'],\n",
              " ['guilherme boulos',\n",
              "  'sp',\n",
              "  'sao-paulo',\n",
              "  'prefeito',\n",
              "  'https://politica.estadao.com.br/eleicoes/2020/candidatos/sp/sao-paulo/prefeito/guilherme-boulos,50',\n",
              "  'PSOL'],\n",
              " ['jilmar tatto',\n",
              "  'sp',\n",
              "  'sao-paulo',\n",
              "  'prefeito',\n",
              "  'https://politica.estadao.com.br/eleicoes/2020/candidatos/sp/sao-paulo/prefeito/jilmar-tatto,13',\n",
              "  'PT'],\n",
              " ['joice hasselmann',\n",
              "  'sp',\n",
              "  'sao-paulo',\n",
              "  'prefeito',\n",
              "  'https://politica.estadao.com.br/eleicoes/2020/candidatos/sp/sao-paulo/prefeito/joice-hasselmann,17',\n",
              "  'PSL'],\n",
              " ['levy fidelix',\n",
              "  'sp',\n",
              "  'sao-paulo',\n",
              "  'prefeito',\n",
              "  'https://politica.estadao.com.br/eleicoes/2020/candidatos/sp/sao-paulo/prefeito/levy-fidelix,28',\n",
              "  'PRTB'],\n",
              " ['marina helou',\n",
              "  'sp',\n",
              "  'sao-paulo',\n",
              "  'prefeito',\n",
              "  'https://politica.estadao.com.br/eleicoes/2020/candidatos/sp/sao-paulo/prefeito/marina-helou,18',\n",
              "  'REDE'],\n",
              " ['márcio frança',\n",
              "  'sp',\n",
              "  'sao-paulo',\n",
              "  'prefeito',\n",
              "  'https://politica.estadao.com.br/eleicoes/2020/candidatos/sp/sao-paulo/prefeito/marcio-franca,40',\n",
              "  'PSB'],\n",
              " ['orlando silva',\n",
              "  'sp',\n",
              "  'sao-paulo',\n",
              "  'prefeito',\n",
              "  'https://politica.estadao.com.br/eleicoes/2020/candidatos/sp/sao-paulo/prefeito/orlando-silva,65',\n",
              "  'PC do B'],\n",
              " ['sabará',\n",
              "  'sp',\n",
              "  'sao-paulo',\n",
              "  'prefeito',\n",
              "  'https://politica.estadao.com.br/eleicoes/2020/candidatos/sp/sao-paulo/prefeito/sabara,30',\n",
              "  'NOVO'],\n",
              " ['vera',\n",
              "  'sp',\n",
              "  'sao-paulo',\n",
              "  'prefeito',\n",
              "  'https://politica.estadao.com.br/eleicoes/2020/candidatos/sp/sao-paulo/prefeito/vera,16',\n",
              "  'PSTU'],\n",
              " ['bandeira de mello',\n",
              "  'rj',\n",
              "  'rio-de-janeiro',\n",
              "  'prefeito',\n",
              "  'https://politica.estadao.com.br/eleicoes/2020/candidatos/rj/rio-de-janeiro/prefeito/bandeira-de-mello,18',\n",
              "  'REDE'],\n",
              " ['benedita da silva',\n",
              "  'rj',\n",
              "  'rio-de-janeiro',\n",
              "  'prefeito',\n",
              "  'https://politica.estadao.com.br/eleicoes/2020/candidatos/rj/rio-de-janeiro/prefeito/benedita-da-silva,13',\n",
              "  'PT'],\n",
              " ['clarissa garotinho',\n",
              "  'rj',\n",
              "  'rio-de-janeiro',\n",
              "  'prefeito',\n",
              "  'https://politica.estadao.com.br/eleicoes/2020/candidatos/rj/rio-de-janeiro/prefeito/clarissa-garotinho,90',\n",
              "  'PROS'],\n",
              " ['crivella',\n",
              "  'rj',\n",
              "  'rio-de-janeiro',\n",
              "  'prefeito',\n",
              "  'https://politica.estadao.com.br/eleicoes/2020/candidatos/rj/rio-de-janeiro/prefeito/crivella,10',\n",
              "  'REPUBLICANOS'],\n",
              " ['cyro garcia',\n",
              "  'rj',\n",
              "  'rio-de-janeiro',\n",
              "  'prefeito',\n",
              "  'https://politica.estadao.com.br/eleicoes/2020/candidatos/rj/rio-de-janeiro/prefeito/cyro-garcia,16',\n",
              "  'PSTU'],\n",
              " ['delegada martha rocha',\n",
              "  'rj',\n",
              "  'rio-de-janeiro',\n",
              "  'prefeito',\n",
              "  'https://politica.estadao.com.br/eleicoes/2020/candidatos/rj/rio-de-janeiro/prefeito/delegada-martha-rocha,12',\n",
              "  'PDT'],\n",
              " ['eduardo paes',\n",
              "  'rj',\n",
              "  'rio-de-janeiro',\n",
              "  'prefeito',\n",
              "  'https://politica.estadao.com.br/eleicoes/2020/candidatos/rj/rio-de-janeiro/prefeito/eduardo-paes,25',\n",
              "  'DEM'],\n",
              " ['fred luz',\n",
              "  'rj',\n",
              "  'rio-de-janeiro',\n",
              "  'prefeito',\n",
              "  'https://politica.estadao.com.br/eleicoes/2020/candidatos/rj/rio-de-janeiro/prefeito/fred-luz,30',\n",
              "  'NOVO'],\n",
              " ['glória heloiza',\n",
              "  'rj',\n",
              "  'rio-de-janeiro',\n",
              "  'prefeito',\n",
              "  'https://politica.estadao.com.br/eleicoes/2020/candidatos/rj/rio-de-janeiro/prefeito/gloria-heloiza,20',\n",
              "  'PSC'],\n",
              " ['henrique simonard',\n",
              "  'rj',\n",
              "  'rio-de-janeiro',\n",
              "  'prefeito',\n",
              "  'https://politica.estadao.com.br/eleicoes/2020/candidatos/rj/rio-de-janeiro/prefeito/henrique-simonard,29',\n",
              "  'PCO'],\n",
              " ['luiz lima',\n",
              "  'rj',\n",
              "  'rio-de-janeiro',\n",
              "  'prefeito',\n",
              "  'https://politica.estadao.com.br/eleicoes/2020/candidatos/rj/rio-de-janeiro/prefeito/luiz-lima,17',\n",
              "  'PSL'],\n",
              " ['paulo messina',\n",
              "  'rj',\n",
              "  'rio-de-janeiro',\n",
              "  'prefeito',\n",
              "  'https://politica.estadao.com.br/eleicoes/2020/candidatos/rj/rio-de-janeiro/prefeito/paulo-messina,15',\n",
              "  'MDB'],\n",
              " ['renata souza',\n",
              "  'rj',\n",
              "  'rio-de-janeiro',\n",
              "  'prefeito',\n",
              "  'https://politica.estadao.com.br/eleicoes/2020/candidatos/rj/rio-de-janeiro/prefeito/renata-souza,50',\n",
              "  'PSOL'],\n",
              " ['suêd haidar',\n",
              "  'rj',\n",
              "  'rio-de-janeiro',\n",
              "  'prefeito',\n",
              "  'https://politica.estadao.com.br/eleicoes/2020/candidatos/rj/rio-de-janeiro/prefeito/sued-haidar,35',\n",
              "  'PMB'],\n",
              " ['bruno engler',\n",
              "  'mg',\n",
              "  'belo-horizonte',\n",
              "  'prefeito',\n",
              "  'https://politica.estadao.com.br/eleicoes/2020/candidatos/mg/belo-horizonte/prefeito/bruno-engler,28',\n",
              "  'PRTB'],\n",
              " ['bruno engler',\n",
              "  'mg',\n",
              "  'belo-horizonte',\n",
              "  'prefeito',\n",
              "  'https://politica.estadao.com.br/eleicoes/2020/candidatos/mg/belo-horizonte/prefeito/bruno-engler,28',\n",
              "  'PRTB'],\n",
              " ['cabo xavier',\n",
              "  'mg',\n",
              "  'belo-horizonte',\n",
              "  'prefeito',\n",
              "  'https://politica.estadao.com.br/eleicoes/2020/candidatos/mg/belo-horizonte/prefeito/cabo-xavier,35',\n",
              "  'PMB'],\n",
              " ['fabiano cazeca',\n",
              "  'mg',\n",
              "  'belo-horizonte',\n",
              "  'prefeito',\n",
              "  'https://politica.estadao.com.br/eleicoes/2020/candidatos/mg/belo-horizonte/prefeito/fabiano-cazeca,90',\n",
              "  'PROS'],\n",
              " ['joão vitor xavier',\n",
              "  'mg',\n",
              "  'belo-horizonte',\n",
              "  'prefeito',\n",
              "  'https://politica.estadao.com.br/eleicoes/2020/candidatos/mg/belo-horizonte/prefeito/joao-vitor-xavier,23',\n",
              "  'CIDADANIA'],\n",
              " ['kalil',\n",
              "  'mg',\n",
              "  'belo-horizonte',\n",
              "  'prefeito',\n",
              "  'https://politica.estadao.com.br/eleicoes/2020/candidatos/mg/belo-horizonte/prefeito/kalil,55',\n",
              "  'PSD'],\n",
              " ['lafayette andrada',\n",
              "  'mg',\n",
              "  'belo-horizonte',\n",
              "  'prefeito',\n",
              "  'https://politica.estadao.com.br/eleicoes/2020/candidatos/mg/belo-horizonte/prefeito/lafayette-andrada,10',\n",
              "  'REPUBLICANOS'],\n",
              " ['luisa barreto',\n",
              "  'mg',\n",
              "  'belo-horizonte',\n",
              "  'prefeito',\n",
              "  'https://politica.estadao.com.br/eleicoes/2020/candidatos/mg/belo-horizonte/prefeito/luisa-barreto,45',\n",
              "  'PSDB'],\n",
              " ['marcelo souza e silva',\n",
              "  'mg',\n",
              "  'belo-horizonte',\n",
              "  'prefeito',\n",
              "  'https://politica.estadao.com.br/eleicoes/2020/candidatos/mg/belo-horizonte/prefeito/marcelo-souza-e-silva,51',\n",
              "  'PATRIOTA'],\n",
              " ['marilia domingues',\n",
              "  'mg',\n",
              "  'belo-horizonte',\n",
              "  'prefeito',\n",
              "  'https://politica.estadao.com.br/eleicoes/2020/candidatos/mg/belo-horizonte/prefeito/marilia-domingues,29',\n",
              "  'PCO'],\n",
              " ['nilmário miranda',\n",
              "  'mg',\n",
              "  'belo-horizonte',\n",
              "  'prefeito',\n",
              "  'https://politica.estadao.com.br/eleicoes/2020/candidatos/mg/belo-horizonte/prefeito/nilmario-miranda,13',\n",
              "  'PT'],\n",
              " ['professor wendel mesquita',\n",
              "  'mg',\n",
              "  'belo-horizonte',\n",
              "  'prefeito',\n",
              "  'https://politica.estadao.com.br/eleicoes/2020/candidatos/mg/belo-horizonte/prefeito/professor-wendel-mesquita,77',\n",
              "  'SOLIDARIEDADE'],\n",
              " ['rodrigo paiva',\n",
              "  'mg',\n",
              "  'belo-horizonte',\n",
              "  'prefeito',\n",
              "  'https://politica.estadao.com.br/eleicoes/2020/candidatos/mg/belo-horizonte/prefeito/rodrigo-paiva,30',\n",
              "  'NOVO'],\n",
              " ['wadson ribeiro',\n",
              "  'mg',\n",
              "  'belo-horizonte',\n",
              "  'prefeito',\n",
              "  'https://politica.estadao.com.br/eleicoes/2020/candidatos/mg/belo-horizonte/prefeito/wadson-ribeiro,65',\n",
              "  'PC do B'],\n",
              " ['wanderson rocha',\n",
              "  'mg',\n",
              "  'belo-horizonte',\n",
              "  'prefeito',\n",
              "  'https://politica.estadao.com.br/eleicoes/2020/candidatos/mg/belo-horizonte/prefeito/wanderson-rocha,16',\n",
              "  'PSTU'],\n",
              " ['áurea carolina',\n",
              "  'mg',\n",
              "  'belo-horizonte',\n",
              "  'prefeito',\n",
              "  'https://politica.estadao.com.br/eleicoes/2020/candidatos/mg/belo-horizonte/prefeito/aurea-carolina,50',\n",
              "  'PSOL']]"
            ]
          },
          "metadata": {
            "tags": []
          },
          "execution_count": 92
        }
      ]
    },
    {
      "cell_type": "markdown",
      "metadata": {
        "id": "RGDZdqvGBEwq"
      },
      "source": [
        "Vamos agora criar um data frame com a lista de candidatos gerada a partir do site"
      ]
    },
    {
      "cell_type": "code",
      "metadata": {
        "id": "U1TP1bwuBChQ"
      },
      "source": [
        "import pandas as pd"
      ],
      "execution_count": 93,
      "outputs": []
    },
    {
      "cell_type": "code",
      "metadata": {
        "id": "-GOaRIJ2BLKz"
      },
      "source": [
        "#criando o Dataframe\n",
        "df_candidatos=pd.DataFrame(lista_candidatos,columns=['Nome','Estado','Cidade','Cargo que Concorreu','Link','Partido'])"
      ],
      "execution_count": 110,
      "outputs": []
    },
    {
      "cell_type": "code",
      "metadata": {
        "colab": {
          "base_uri": "https://localhost:8080/",
          "height": 669
        },
        "id": "yRexULBvB0g_",
        "outputId": "efa402cb-17e1-495d-d4c7-e1c3257060dc"
      },
      "source": [
        "#visualizando o resultado \n",
        "df_candidatos.head(20)"
      ],
      "execution_count": 111,
      "outputs": [
        {
          "output_type": "execute_result",
          "data": {
            "text/html": [
              "<div>\n",
              "<style scoped>\n",
              "    .dataframe tbody tr th:only-of-type {\n",
              "        vertical-align: middle;\n",
              "    }\n",
              "\n",
              "    .dataframe tbody tr th {\n",
              "        vertical-align: top;\n",
              "    }\n",
              "\n",
              "    .dataframe thead th {\n",
              "        text-align: right;\n",
              "    }\n",
              "</style>\n",
              "<table border=\"1\" class=\"dataframe\">\n",
              "  <thead>\n",
              "    <tr style=\"text-align: right;\">\n",
              "      <th></th>\n",
              "      <th>Nome</th>\n",
              "      <th>Estado</th>\n",
              "      <th>Cidade</th>\n",
              "      <th>Cargo que Concorreu</th>\n",
              "      <th>Link</th>\n",
              "      <th>Partido</th>\n",
              "    </tr>\n",
              "  </thead>\n",
              "  <tbody>\n",
              "    <tr>\n",
              "      <th>0</th>\n",
              "      <td>andrea matarazzo</td>\n",
              "      <td>sp</td>\n",
              "      <td>sao-paulo</td>\n",
              "      <td>prefeito</td>\n",
              "      <td>https://politica.estadao.com.br/eleicoes/2020/...</td>\n",
              "      <td>PSD</td>\n",
              "    </tr>\n",
              "    <tr>\n",
              "      <th>1</th>\n",
              "      <td>antônio carlos</td>\n",
              "      <td>sp</td>\n",
              "      <td>sao-paulo</td>\n",
              "      <td>prefeito</td>\n",
              "      <td>https://politica.estadao.com.br/eleicoes/2020/...</td>\n",
              "      <td>PCO</td>\n",
              "    </tr>\n",
              "    <tr>\n",
              "      <th>2</th>\n",
              "      <td>arthur do val mamãe falei</td>\n",
              "      <td>sp</td>\n",
              "      <td>sao-paulo</td>\n",
              "      <td>prefeito</td>\n",
              "      <td>https://politica.estadao.com.br/eleicoes/2020/...</td>\n",
              "      <td>PATRIOTA</td>\n",
              "    </tr>\n",
              "    <tr>\n",
              "      <th>3</th>\n",
              "      <td>bruno covas</td>\n",
              "      <td>sp</td>\n",
              "      <td>sao-paulo</td>\n",
              "      <td>prefeito</td>\n",
              "      <td>https://politica.estadao.com.br/eleicoes/2020/...</td>\n",
              "      <td>PSDB</td>\n",
              "    </tr>\n",
              "    <tr>\n",
              "      <th>4</th>\n",
              "      <td>celso russomanno</td>\n",
              "      <td>sp</td>\n",
              "      <td>sao-paulo</td>\n",
              "      <td>prefeito</td>\n",
              "      <td>https://politica.estadao.com.br/eleicoes/2020/...</td>\n",
              "      <td>REPUBLICANOS</td>\n",
              "    </tr>\n",
              "    <tr>\n",
              "      <th>5</th>\n",
              "      <td>guilherme boulos</td>\n",
              "      <td>sp</td>\n",
              "      <td>sao-paulo</td>\n",
              "      <td>prefeito</td>\n",
              "      <td>https://politica.estadao.com.br/eleicoes/2020/...</td>\n",
              "      <td>PSOL</td>\n",
              "    </tr>\n",
              "    <tr>\n",
              "      <th>6</th>\n",
              "      <td>jilmar tatto</td>\n",
              "      <td>sp</td>\n",
              "      <td>sao-paulo</td>\n",
              "      <td>prefeito</td>\n",
              "      <td>https://politica.estadao.com.br/eleicoes/2020/...</td>\n",
              "      <td>PT</td>\n",
              "    </tr>\n",
              "    <tr>\n",
              "      <th>7</th>\n",
              "      <td>joice hasselmann</td>\n",
              "      <td>sp</td>\n",
              "      <td>sao-paulo</td>\n",
              "      <td>prefeito</td>\n",
              "      <td>https://politica.estadao.com.br/eleicoes/2020/...</td>\n",
              "      <td>PSL</td>\n",
              "    </tr>\n",
              "    <tr>\n",
              "      <th>8</th>\n",
              "      <td>levy fidelix</td>\n",
              "      <td>sp</td>\n",
              "      <td>sao-paulo</td>\n",
              "      <td>prefeito</td>\n",
              "      <td>https://politica.estadao.com.br/eleicoes/2020/...</td>\n",
              "      <td>PRTB</td>\n",
              "    </tr>\n",
              "    <tr>\n",
              "      <th>9</th>\n",
              "      <td>marina helou</td>\n",
              "      <td>sp</td>\n",
              "      <td>sao-paulo</td>\n",
              "      <td>prefeito</td>\n",
              "      <td>https://politica.estadao.com.br/eleicoes/2020/...</td>\n",
              "      <td>REDE</td>\n",
              "    </tr>\n",
              "    <tr>\n",
              "      <th>10</th>\n",
              "      <td>márcio frança</td>\n",
              "      <td>sp</td>\n",
              "      <td>sao-paulo</td>\n",
              "      <td>prefeito</td>\n",
              "      <td>https://politica.estadao.com.br/eleicoes/2020/...</td>\n",
              "      <td>PSB</td>\n",
              "    </tr>\n",
              "    <tr>\n",
              "      <th>11</th>\n",
              "      <td>orlando silva</td>\n",
              "      <td>sp</td>\n",
              "      <td>sao-paulo</td>\n",
              "      <td>prefeito</td>\n",
              "      <td>https://politica.estadao.com.br/eleicoes/2020/...</td>\n",
              "      <td>PC do B</td>\n",
              "    </tr>\n",
              "    <tr>\n",
              "      <th>12</th>\n",
              "      <td>sabará</td>\n",
              "      <td>sp</td>\n",
              "      <td>sao-paulo</td>\n",
              "      <td>prefeito</td>\n",
              "      <td>https://politica.estadao.com.br/eleicoes/2020/...</td>\n",
              "      <td>NOVO</td>\n",
              "    </tr>\n",
              "    <tr>\n",
              "      <th>13</th>\n",
              "      <td>vera</td>\n",
              "      <td>sp</td>\n",
              "      <td>sao-paulo</td>\n",
              "      <td>prefeito</td>\n",
              "      <td>https://politica.estadao.com.br/eleicoes/2020/...</td>\n",
              "      <td>PSTU</td>\n",
              "    </tr>\n",
              "    <tr>\n",
              "      <th>14</th>\n",
              "      <td>bandeira de mello</td>\n",
              "      <td>rj</td>\n",
              "      <td>rio-de-janeiro</td>\n",
              "      <td>prefeito</td>\n",
              "      <td>https://politica.estadao.com.br/eleicoes/2020/...</td>\n",
              "      <td>REDE</td>\n",
              "    </tr>\n",
              "    <tr>\n",
              "      <th>15</th>\n",
              "      <td>benedita da silva</td>\n",
              "      <td>rj</td>\n",
              "      <td>rio-de-janeiro</td>\n",
              "      <td>prefeito</td>\n",
              "      <td>https://politica.estadao.com.br/eleicoes/2020/...</td>\n",
              "      <td>PT</td>\n",
              "    </tr>\n",
              "    <tr>\n",
              "      <th>16</th>\n",
              "      <td>clarissa garotinho</td>\n",
              "      <td>rj</td>\n",
              "      <td>rio-de-janeiro</td>\n",
              "      <td>prefeito</td>\n",
              "      <td>https://politica.estadao.com.br/eleicoes/2020/...</td>\n",
              "      <td>PROS</td>\n",
              "    </tr>\n",
              "    <tr>\n",
              "      <th>17</th>\n",
              "      <td>crivella</td>\n",
              "      <td>rj</td>\n",
              "      <td>rio-de-janeiro</td>\n",
              "      <td>prefeito</td>\n",
              "      <td>https://politica.estadao.com.br/eleicoes/2020/...</td>\n",
              "      <td>REPUBLICANOS</td>\n",
              "    </tr>\n",
              "    <tr>\n",
              "      <th>18</th>\n",
              "      <td>cyro garcia</td>\n",
              "      <td>rj</td>\n",
              "      <td>rio-de-janeiro</td>\n",
              "      <td>prefeito</td>\n",
              "      <td>https://politica.estadao.com.br/eleicoes/2020/...</td>\n",
              "      <td>PSTU</td>\n",
              "    </tr>\n",
              "    <tr>\n",
              "      <th>19</th>\n",
              "      <td>delegada martha rocha</td>\n",
              "      <td>rj</td>\n",
              "      <td>rio-de-janeiro</td>\n",
              "      <td>prefeito</td>\n",
              "      <td>https://politica.estadao.com.br/eleicoes/2020/...</td>\n",
              "      <td>PDT</td>\n",
              "    </tr>\n",
              "  </tbody>\n",
              "</table>\n",
              "</div>"
            ],
            "text/plain": [
              "                         Nome  ...       Partido\n",
              "0            andrea matarazzo  ...           PSD\n",
              "1              antônio carlos  ...           PCO\n",
              "2   arthur do val mamãe falei  ...      PATRIOTA\n",
              "3                 bruno covas  ...          PSDB\n",
              "4            celso russomanno  ...  REPUBLICANOS\n",
              "5            guilherme boulos  ...          PSOL\n",
              "6                jilmar tatto  ...            PT\n",
              "7            joice hasselmann  ...           PSL\n",
              "8                levy fidelix  ...          PRTB\n",
              "9                marina helou  ...          REDE\n",
              "10              márcio frança  ...           PSB\n",
              "11              orlando silva  ...       PC do B\n",
              "12                     sabará  ...          NOVO\n",
              "13                       vera  ...          PSTU\n",
              "14          bandeira de mello  ...          REDE\n",
              "15          benedita da silva  ...            PT\n",
              "16         clarissa garotinho  ...          PROS\n",
              "17                   crivella  ...  REPUBLICANOS\n",
              "18                cyro garcia  ...          PSTU\n",
              "19      delegada martha rocha  ...           PDT\n",
              "\n",
              "[20 rows x 6 columns]"
            ]
          },
          "metadata": {
            "tags": []
          },
          "execution_count": 111
        }
      ]
    },
    {
      "cell_type": "markdown",
      "metadata": {
        "id": "tgiFz-zVCACs"
      },
      "source": [
        "Agora pode-se manipular os dados para a obtenção de informaçoes úteis"
      ]
    },
    {
      "cell_type": "code",
      "metadata": {
        "colab": {
          "base_uri": "https://localhost:8080/"
        },
        "id": "8Ch0BYfjCHBw",
        "outputId": "7b6357ce-02ff-4d87-cbf1-e8c2e997fa33"
      },
      "source": [
        "#contando candidatos por Estados\n",
        "df_candidatos[\"Estado\"].value_counts()"
      ],
      "execution_count": 112,
      "outputs": [
        {
          "output_type": "execute_result",
          "data": {
            "text/plain": [
              "mg    16\n",
              "sp    14\n",
              "rj    14\n",
              "Name: Estado, dtype: int64"
            ]
          },
          "metadata": {
            "tags": []
          },
          "execution_count": 112
        }
      ]
    },
    {
      "cell_type": "code",
      "metadata": {
        "colab": {
          "base_uri": "https://localhost:8080/"
        },
        "id": "9n2QbzavCjCm",
        "outputId": "b3ea2797-25c9-441c-a2b3-37612724c41f"
      },
      "source": [
        "#contando candidatos por partidos\n",
        "df_candidatos[\"Partido\"].value_counts()"
      ],
      "execution_count": 113,
      "outputs": [
        {
          "output_type": "execute_result",
          "data": {
            "text/plain": [
              "PSTU             3\n",
              "PCO              3\n",
              "NOVO             3\n",
              "PT               3\n",
              "REPUBLICANOS     3\n",
              "PSOL             3\n",
              "PRTB             3\n",
              "REDE             2\n",
              "PSD              2\n",
              "PC do B          2\n",
              "PSL              2\n",
              "PSDB             2\n",
              "PMB              2\n",
              "PROS             2\n",
              "PATRIOTA         2\n",
              "PSC              1\n",
              "CIDADANIA        1\n",
              "PDT              1\n",
              "SOLIDARIEDADE    1\n",
              "MDB              1\n",
              "DEM              1\n",
              "PSB              1\n",
              "Name: Partido, dtype: int64"
            ]
          },
          "metadata": {
            "tags": []
          },
          "execution_count": 113
        }
      ]
    },
    {
      "cell_type": "code",
      "metadata": {
        "colab": {
          "base_uri": "https://localhost:8080/"
        },
        "id": "v0MhDVl6CwNI",
        "outputId": "308039c1-7628-49ce-a261-f08f35679d91"
      },
      "source": [
        "#contando candidatos por cidade\n",
        "df_candidatos[\"Cidade\"].value_counts()"
      ],
      "execution_count": 120,
      "outputs": [
        {
          "output_type": "execute_result",
          "data": {
            "text/plain": [
              "belo-horizonte    16\n",
              "sao-paulo         14\n",
              "rio-de-janeiro    14\n",
              "Name: Cidade, dtype: int64"
            ]
          },
          "metadata": {
            "tags": []
          },
          "execution_count": 120
        }
      ]
    },
    {
      "cell_type": "markdown",
      "metadata": {
        "id": "g0ouR1aZC8D2"
      },
      "source": [
        "REALIZANDO TRATAMENTO DOS TEXTOS\n"
      ]
    },
    {
      "cell_type": "code",
      "metadata": {
        "id": "zXXOU6D0C__n"
      },
      "source": [
        "#Corrigindo o campo cidade\n",
        "df_candidatos['Cidade'] = df_candidatos['Cidade'].str.replace('-',' ').str.upper().str.replace('SAO','SÃO')\n",
        "\n",
        "#Corrigindo o campo nome - Colocando a Primeira Letra maiuscula\n",
        "df_candidatos['Nome'] = df_candidatos['Nome'].str.title()\n",
        "\n",
        "#Corrigindo o campo Estado - Colocando a Sigla em Letra maiuscula\n",
        "df_candidatos['Estado'] = df_candidatos['Estado'].str.upper()\n",
        "\n",
        "#Corrigindo o campo Cargo que Concorreu - Colocando a primeira letra maiuscula\n",
        "df_candidatos['Cargo que Concorreu'] = df_candidatos['Cargo que Concorreu'].str.capitalize()"
      ],
      "execution_count": 132,
      "outputs": []
    },
    {
      "cell_type": "code",
      "metadata": {
        "colab": {
          "base_uri": "https://localhost:8080/",
          "height": 669
        },
        "id": "QFJNunLdEVXw",
        "outputId": "a82ce0b8-2db3-4cfb-ab59-1edd9a52a007"
      },
      "source": [
        "df_candidatos.head(20)"
      ],
      "execution_count": 133,
      "outputs": [
        {
          "output_type": "execute_result",
          "data": {
            "text/html": [
              "<div>\n",
              "<style scoped>\n",
              "    .dataframe tbody tr th:only-of-type {\n",
              "        vertical-align: middle;\n",
              "    }\n",
              "\n",
              "    .dataframe tbody tr th {\n",
              "        vertical-align: top;\n",
              "    }\n",
              "\n",
              "    .dataframe thead th {\n",
              "        text-align: right;\n",
              "    }\n",
              "</style>\n",
              "<table border=\"1\" class=\"dataframe\">\n",
              "  <thead>\n",
              "    <tr style=\"text-align: right;\">\n",
              "      <th></th>\n",
              "      <th>Nome</th>\n",
              "      <th>Estado</th>\n",
              "      <th>Cidade</th>\n",
              "      <th>Cargo que Concorreu</th>\n",
              "      <th>Link</th>\n",
              "      <th>Partido</th>\n",
              "    </tr>\n",
              "  </thead>\n",
              "  <tbody>\n",
              "    <tr>\n",
              "      <th>0</th>\n",
              "      <td>Andrea Matarazzo</td>\n",
              "      <td>SP</td>\n",
              "      <td>SÃO PAULO</td>\n",
              "      <td>Prefeito</td>\n",
              "      <td>https://politica.estadao.com.br/eleicoes/2020/...</td>\n",
              "      <td>PSD</td>\n",
              "    </tr>\n",
              "    <tr>\n",
              "      <th>1</th>\n",
              "      <td>Antônio Carlos</td>\n",
              "      <td>SP</td>\n",
              "      <td>SÃO PAULO</td>\n",
              "      <td>Prefeito</td>\n",
              "      <td>https://politica.estadao.com.br/eleicoes/2020/...</td>\n",
              "      <td>PCO</td>\n",
              "    </tr>\n",
              "    <tr>\n",
              "      <th>2</th>\n",
              "      <td>Arthur Do Val Mamãe Falei</td>\n",
              "      <td>SP</td>\n",
              "      <td>SÃO PAULO</td>\n",
              "      <td>Prefeito</td>\n",
              "      <td>https://politica.estadao.com.br/eleicoes/2020/...</td>\n",
              "      <td>PATRIOTA</td>\n",
              "    </tr>\n",
              "    <tr>\n",
              "      <th>3</th>\n",
              "      <td>Bruno Covas</td>\n",
              "      <td>SP</td>\n",
              "      <td>SÃO PAULO</td>\n",
              "      <td>Prefeito</td>\n",
              "      <td>https://politica.estadao.com.br/eleicoes/2020/...</td>\n",
              "      <td>PSDB</td>\n",
              "    </tr>\n",
              "    <tr>\n",
              "      <th>4</th>\n",
              "      <td>Celso Russomanno</td>\n",
              "      <td>SP</td>\n",
              "      <td>SÃO PAULO</td>\n",
              "      <td>Prefeito</td>\n",
              "      <td>https://politica.estadao.com.br/eleicoes/2020/...</td>\n",
              "      <td>REPUBLICANOS</td>\n",
              "    </tr>\n",
              "    <tr>\n",
              "      <th>5</th>\n",
              "      <td>Guilherme Boulos</td>\n",
              "      <td>SP</td>\n",
              "      <td>SÃO PAULO</td>\n",
              "      <td>Prefeito</td>\n",
              "      <td>https://politica.estadao.com.br/eleicoes/2020/...</td>\n",
              "      <td>PSOL</td>\n",
              "    </tr>\n",
              "    <tr>\n",
              "      <th>6</th>\n",
              "      <td>Jilmar Tatto</td>\n",
              "      <td>SP</td>\n",
              "      <td>SÃO PAULO</td>\n",
              "      <td>Prefeito</td>\n",
              "      <td>https://politica.estadao.com.br/eleicoes/2020/...</td>\n",
              "      <td>PT</td>\n",
              "    </tr>\n",
              "    <tr>\n",
              "      <th>7</th>\n",
              "      <td>Joice Hasselmann</td>\n",
              "      <td>SP</td>\n",
              "      <td>SÃO PAULO</td>\n",
              "      <td>Prefeito</td>\n",
              "      <td>https://politica.estadao.com.br/eleicoes/2020/...</td>\n",
              "      <td>PSL</td>\n",
              "    </tr>\n",
              "    <tr>\n",
              "      <th>8</th>\n",
              "      <td>Levy Fidelix</td>\n",
              "      <td>SP</td>\n",
              "      <td>SÃO PAULO</td>\n",
              "      <td>Prefeito</td>\n",
              "      <td>https://politica.estadao.com.br/eleicoes/2020/...</td>\n",
              "      <td>PRTB</td>\n",
              "    </tr>\n",
              "    <tr>\n",
              "      <th>9</th>\n",
              "      <td>Marina Helou</td>\n",
              "      <td>SP</td>\n",
              "      <td>SÃO PAULO</td>\n",
              "      <td>Prefeito</td>\n",
              "      <td>https://politica.estadao.com.br/eleicoes/2020/...</td>\n",
              "      <td>REDE</td>\n",
              "    </tr>\n",
              "    <tr>\n",
              "      <th>10</th>\n",
              "      <td>Márcio França</td>\n",
              "      <td>SP</td>\n",
              "      <td>SÃO PAULO</td>\n",
              "      <td>Prefeito</td>\n",
              "      <td>https://politica.estadao.com.br/eleicoes/2020/...</td>\n",
              "      <td>PSB</td>\n",
              "    </tr>\n",
              "    <tr>\n",
              "      <th>11</th>\n",
              "      <td>Orlando Silva</td>\n",
              "      <td>SP</td>\n",
              "      <td>SÃO PAULO</td>\n",
              "      <td>Prefeito</td>\n",
              "      <td>https://politica.estadao.com.br/eleicoes/2020/...</td>\n",
              "      <td>PC do B</td>\n",
              "    </tr>\n",
              "    <tr>\n",
              "      <th>12</th>\n",
              "      <td>Sabará</td>\n",
              "      <td>SP</td>\n",
              "      <td>SÃO PAULO</td>\n",
              "      <td>Prefeito</td>\n",
              "      <td>https://politica.estadao.com.br/eleicoes/2020/...</td>\n",
              "      <td>NOVO</td>\n",
              "    </tr>\n",
              "    <tr>\n",
              "      <th>13</th>\n",
              "      <td>Vera</td>\n",
              "      <td>SP</td>\n",
              "      <td>SÃO PAULO</td>\n",
              "      <td>Prefeito</td>\n",
              "      <td>https://politica.estadao.com.br/eleicoes/2020/...</td>\n",
              "      <td>PSTU</td>\n",
              "    </tr>\n",
              "    <tr>\n",
              "      <th>14</th>\n",
              "      <td>Bandeira De Mello</td>\n",
              "      <td>RJ</td>\n",
              "      <td>RIO DE JANEIRO</td>\n",
              "      <td>Prefeito</td>\n",
              "      <td>https://politica.estadao.com.br/eleicoes/2020/...</td>\n",
              "      <td>REDE</td>\n",
              "    </tr>\n",
              "    <tr>\n",
              "      <th>15</th>\n",
              "      <td>Benedita Da Silva</td>\n",
              "      <td>RJ</td>\n",
              "      <td>RIO DE JANEIRO</td>\n",
              "      <td>Prefeito</td>\n",
              "      <td>https://politica.estadao.com.br/eleicoes/2020/...</td>\n",
              "      <td>PT</td>\n",
              "    </tr>\n",
              "    <tr>\n",
              "      <th>16</th>\n",
              "      <td>Clarissa Garotinho</td>\n",
              "      <td>RJ</td>\n",
              "      <td>RIO DE JANEIRO</td>\n",
              "      <td>Prefeito</td>\n",
              "      <td>https://politica.estadao.com.br/eleicoes/2020/...</td>\n",
              "      <td>PROS</td>\n",
              "    </tr>\n",
              "    <tr>\n",
              "      <th>17</th>\n",
              "      <td>Crivella</td>\n",
              "      <td>RJ</td>\n",
              "      <td>RIO DE JANEIRO</td>\n",
              "      <td>Prefeito</td>\n",
              "      <td>https://politica.estadao.com.br/eleicoes/2020/...</td>\n",
              "      <td>REPUBLICANOS</td>\n",
              "    </tr>\n",
              "    <tr>\n",
              "      <th>18</th>\n",
              "      <td>Cyro Garcia</td>\n",
              "      <td>RJ</td>\n",
              "      <td>RIO DE JANEIRO</td>\n",
              "      <td>Prefeito</td>\n",
              "      <td>https://politica.estadao.com.br/eleicoes/2020/...</td>\n",
              "      <td>PSTU</td>\n",
              "    </tr>\n",
              "    <tr>\n",
              "      <th>19</th>\n",
              "      <td>Delegada Martha Rocha</td>\n",
              "      <td>RJ</td>\n",
              "      <td>RIO DE JANEIRO</td>\n",
              "      <td>Prefeito</td>\n",
              "      <td>https://politica.estadao.com.br/eleicoes/2020/...</td>\n",
              "      <td>PDT</td>\n",
              "    </tr>\n",
              "  </tbody>\n",
              "</table>\n",
              "</div>"
            ],
            "text/plain": [
              "                         Nome  ...       Partido\n",
              "0            Andrea Matarazzo  ...           PSD\n",
              "1              Antônio Carlos  ...           PCO\n",
              "2   Arthur Do Val Mamãe Falei  ...      PATRIOTA\n",
              "3                 Bruno Covas  ...          PSDB\n",
              "4            Celso Russomanno  ...  REPUBLICANOS\n",
              "5            Guilherme Boulos  ...          PSOL\n",
              "6                Jilmar Tatto  ...            PT\n",
              "7            Joice Hasselmann  ...           PSL\n",
              "8                Levy Fidelix  ...          PRTB\n",
              "9                Marina Helou  ...          REDE\n",
              "10              Márcio França  ...           PSB\n",
              "11              Orlando Silva  ...       PC do B\n",
              "12                     Sabará  ...          NOVO\n",
              "13                       Vera  ...          PSTU\n",
              "14          Bandeira De Mello  ...          REDE\n",
              "15          Benedita Da Silva  ...            PT\n",
              "16         Clarissa Garotinho  ...          PROS\n",
              "17                   Crivella  ...  REPUBLICANOS\n",
              "18                Cyro Garcia  ...          PSTU\n",
              "19      Delegada Martha Rocha  ...           PDT\n",
              "\n",
              "[20 rows x 6 columns]"
            ]
          },
          "metadata": {
            "tags": []
          },
          "execution_count": 133
        }
      ]
    }
  ]
}